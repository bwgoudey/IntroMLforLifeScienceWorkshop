{
  "cells": [
    {
      "cell_type": "markdown",
      "metadata": {
        "id": "B0eQobFj9Sk7"
      },
      "source": [
        "# Workshop -- Machine learning in life sciences\n",
        "### What is it, when should it be used and how to avoid common pitfalls\n",
        "\n",
        "**Author:** Benjamin Goudey, Research Fellow in Computing and Information Systems at The University of Melbourne"
      ]
    },
    {
      "cell_type": "markdown",
      "metadata": {
        "id": "Gyo-XHug9SlA"
      },
      "source": [
        "# Introduction\n",
        "Welcome to the workshop! This notebook accompanies the workshop *Applying machine learning in life sciences: what does it mean and how to avoid common traps.*\n",
        "\n",
        "The notebook focuses on the problem of predicting diabetes from a few clinical and blood measurements, as well as several \"noise\" variables.\n",
        "\n",
        "The notebook is split into into four sections. \n",
        "\n",
        "0. Welcome and setup\n",
        "1. Exploring the data and fitting a model and measuring performance\n",
        "2. Pitfall 1: Evaluation frameworks and generalisation\n",
        "3.  Pitfall 2: Selecting features and model parameters\n",
        "\n",
        "There will be a number of models, measures and algorithms that will be used and will be briefly explained in the accompanying tutorial but will not be covered in detail. The skikit-learn documentation will be valuable here (https://scikit-learn.org/stable/modules/classes.html)\n",
        "\n",
        "The notebook assumes familiarity with python, and a passing familiarity with the pandas, matplotlib/seaborn and numpy/scipy packages. Comments have been placed around the code and the expectation is you should be able to follow along rather than write this code from scratch.\n"
      ]
    },
    {
      "cell_type": "markdown",
      "metadata": {
        "id": "odlRpgfkM282"
      },
      "source": [
        "# 0 Notebook Setup \n"
      ]
    },
    {
      "cell_type": "markdown",
      "metadata": {
        "id": "75-A4WtJM8fi"
      },
      "source": [
        "## 0.1 Install and load required packages"
      ]
    },
    {
      "cell_type": "markdown",
      "metadata": {},
      "source": [
        "## YOU WILL PROBABLY NEED TO RUN THIS CELL TWICE!\n",
        "It installs a recent version of pandas-profiling, a tool for summarising the content of a pandas data frame. When the install occurs, a little reset button will appear. Press this and re-run the cell to load all packages into your environment, "
      ]
    },
    {
      "cell_type": "code",
      "execution_count": 9,
      "metadata": {
        "id": "vFSeoWp_9SlC"
      },
      "outputs": [
        {
          "name": "stdout",
          "output_type": "stream",
          "text": [
            "Requirement already satisfied: pandas-profiling==3.0.0 in /Users/bgoudey/Research/Slides/BioInfoSummer2021_ML/env/lib/python3.9/site-packages (3.0.0)\n",
            "Requirement already satisfied: requests>=2.24.0 in /Users/bgoudey/Research/Slides/BioInfoSummer2021_ML/env/lib/python3.9/site-packages (from pandas-profiling==3.0.0) (2.26.0)\n",
            "Requirement already satisfied: tangled-up-in-unicode==0.1.0 in /Users/bgoudey/Research/Slides/BioInfoSummer2021_ML/env/lib/python3.9/site-packages (from pandas-profiling==3.0.0) (0.1.0)\n",
            "Requirement already satisfied: joblib in /Users/bgoudey/Research/Slides/BioInfoSummer2021_ML/env/lib/python3.9/site-packages (from pandas-profiling==3.0.0) (1.1.0)\n",
            "Requirement already satisfied: jinja2>=2.11.1 in /Users/bgoudey/Research/Slides/BioInfoSummer2021_ML/env/lib/python3.9/site-packages (from pandas-profiling==3.0.0) (3.0.3)\n",
            "Requirement already satisfied: PyYAML>=5.0.0 in /Users/bgoudey/Research/Slides/BioInfoSummer2021_ML/env/lib/python3.9/site-packages (from pandas-profiling==3.0.0) (6.0)\n",
            "Requirement already satisfied: visions[type_image_path]==0.7.1 in /Users/bgoudey/Research/Slides/BioInfoSummer2021_ML/env/lib/python3.9/site-packages (from pandas-profiling==3.0.0) (0.7.1)\n",
            "Requirement already satisfied: pydantic>=1.8.1 in /Users/bgoudey/Research/Slides/BioInfoSummer2021_ML/env/lib/python3.9/site-packages (from pandas-profiling==3.0.0) (1.8.2)\n",
            "Requirement already satisfied: missingno>=0.4.2 in /Users/bgoudey/Research/Slides/BioInfoSummer2021_ML/env/lib/python3.9/site-packages (from pandas-profiling==3.0.0) (0.5.0)\n",
            "Requirement already satisfied: pandas!=1.0.0,!=1.0.1,!=1.0.2,!=1.1.0,>=0.25.3 in /Users/bgoudey/Research/Slides/BioInfoSummer2021_ML/env/lib/python3.9/site-packages (from pandas-profiling==3.0.0) (1.3.4)\n",
            "Requirement already satisfied: phik>=0.11.1 in /Users/bgoudey/Research/Slides/BioInfoSummer2021_ML/env/lib/python3.9/site-packages (from pandas-profiling==3.0.0) (0.12.0)\n",
            "Requirement already satisfied: matplotlib>=3.2.0 in /Users/bgoudey/Research/Slides/BioInfoSummer2021_ML/env/lib/python3.9/site-packages (from pandas-profiling==3.0.0) (3.5.0)\n",
            "Requirement already satisfied: seaborn>=0.10.1 in /Users/bgoudey/Research/Slides/BioInfoSummer2021_ML/env/lib/python3.9/site-packages (from pandas-profiling==3.0.0) (0.11.2)\n",
            "Requirement already satisfied: tqdm>=4.48.2 in /Users/bgoudey/Research/Slides/BioInfoSummer2021_ML/env/lib/python3.9/site-packages (from pandas-profiling==3.0.0) (4.62.3)\n",
            "Requirement already satisfied: htmlmin>=0.1.12 in /Users/bgoudey/Research/Slides/BioInfoSummer2021_ML/env/lib/python3.9/site-packages (from pandas-profiling==3.0.0) (0.1.12)\n",
            "Requirement already satisfied: scipy>=1.4.1 in /Users/bgoudey/Research/Slides/BioInfoSummer2021_ML/env/lib/python3.9/site-packages (from pandas-profiling==3.0.0) (1.7.2)\n",
            "Requirement already satisfied: numpy>=1.16.0 in /Users/bgoudey/Research/Slides/BioInfoSummer2021_ML/env/lib/python3.9/site-packages (from pandas-profiling==3.0.0) (1.21.4)\n",
            "Requirement already satisfied: networkx>=2.4 in /Users/bgoudey/Research/Slides/BioInfoSummer2021_ML/env/lib/python3.9/site-packages (from visions[type_image_path]==0.7.1->pandas-profiling==3.0.0) (2.6.3)\n",
            "Requirement already satisfied: attrs>=19.3.0 in /Users/bgoudey/Research/Slides/BioInfoSummer2021_ML/env/lib/python3.9/site-packages (from visions[type_image_path]==0.7.1->pandas-profiling==3.0.0) (21.2.0)\n",
            "Requirement already satisfied: multimethod==1.4 in /Users/bgoudey/Research/Slides/BioInfoSummer2021_ML/env/lib/python3.9/site-packages (from visions[type_image_path]==0.7.1->pandas-profiling==3.0.0) (1.4)\n",
            "Requirement already satisfied: bottleneck in /Users/bgoudey/Research/Slides/BioInfoSummer2021_ML/env/lib/python3.9/site-packages (from visions[type_image_path]==0.7.1->pandas-profiling==3.0.0) (1.2.1)\n",
            "Requirement already satisfied: Pillow in /Users/bgoudey/Research/Slides/BioInfoSummer2021_ML/env/lib/python3.9/site-packages (from visions[type_image_path]==0.7.1->pandas-profiling==3.0.0) (8.4.0)\n",
            "Requirement already satisfied: imagehash in /Users/bgoudey/Research/Slides/BioInfoSummer2021_ML/env/lib/python3.9/site-packages (from visions[type_image_path]==0.7.1->pandas-profiling==3.0.0) (4.2.1)\n",
            "Requirement already satisfied: MarkupSafe>=2.0 in /Users/bgoudey/Research/Slides/BioInfoSummer2021_ML/env/lib/python3.9/site-packages (from jinja2>=2.11.1->pandas-profiling==3.0.0) (2.0.1)\n",
            "Requirement already satisfied: python-dateutil>=2.7 in /Users/bgoudey/Research/Slides/BioInfoSummer2021_ML/env/lib/python3.9/site-packages (from matplotlib>=3.2.0->pandas-profiling==3.0.0) (2.8.2)\n",
            "Requirement already satisfied: kiwisolver>=1.0.1 in /Users/bgoudey/Research/Slides/BioInfoSummer2021_ML/env/lib/python3.9/site-packages (from matplotlib>=3.2.0->pandas-profiling==3.0.0) (1.3.2)\n",
            "Requirement already satisfied: fonttools>=4.22.0 in /Users/bgoudey/Research/Slides/BioInfoSummer2021_ML/env/lib/python3.9/site-packages (from matplotlib>=3.2.0->pandas-profiling==3.0.0) (4.28.2)\n",
            "Requirement already satisfied: setuptools-scm>=4 in /Users/bgoudey/Research/Slides/BioInfoSummer2021_ML/env/lib/python3.9/site-packages (from matplotlib>=3.2.0->pandas-profiling==3.0.0) (6.3.2)\n",
            "Requirement already satisfied: pyparsing>=2.2.1 in /Users/bgoudey/Research/Slides/BioInfoSummer2021_ML/env/lib/python3.9/site-packages (from matplotlib>=3.2.0->pandas-profiling==3.0.0) (3.0.6)\n",
            "Requirement already satisfied: packaging>=20.0 in /Users/bgoudey/Research/Slides/BioInfoSummer2021_ML/env/lib/python3.9/site-packages (from matplotlib>=3.2.0->pandas-profiling==3.0.0) (21.3)\n",
            "Requirement already satisfied: cycler>=0.10 in /Users/bgoudey/Research/Slides/BioInfoSummer2021_ML/env/lib/python3.9/site-packages (from matplotlib>=3.2.0->pandas-profiling==3.0.0) (0.11.0)\n",
            "Requirement already satisfied: pytz>=2017.3 in /Users/bgoudey/Research/Slides/BioInfoSummer2021_ML/env/lib/python3.9/site-packages (from pandas!=1.0.0,!=1.0.1,!=1.0.2,!=1.1.0,>=0.25.3->pandas-profiling==3.0.0) (2021.3)\n",
            "Requirement already satisfied: typing-extensions>=3.7.4.3 in /Users/bgoudey/Research/Slides/BioInfoSummer2021_ML/env/lib/python3.9/site-packages (from pydantic>=1.8.1->pandas-profiling==3.0.0) (4.0.0)\n",
            "Requirement already satisfied: six>=1.5 in /Users/bgoudey/Research/Slides/BioInfoSummer2021_ML/env/lib/python3.9/site-packages (from python-dateutil>=2.7->matplotlib>=3.2.0->pandas-profiling==3.0.0) (1.16.0)\n",
            "Requirement already satisfied: idna<4,>=2.5 in /Users/bgoudey/Research/Slides/BioInfoSummer2021_ML/env/lib/python3.9/site-packages (from requests>=2.24.0->pandas-profiling==3.0.0) (3.3)\n",
            "Requirement already satisfied: certifi>=2017.4.17 in /Users/bgoudey/Research/Slides/BioInfoSummer2021_ML/env/lib/python3.9/site-packages (from requests>=2.24.0->pandas-profiling==3.0.0) (2021.10.8)\n",
            "Requirement already satisfied: charset-normalizer~=2.0.0 in /Users/bgoudey/Research/Slides/BioInfoSummer2021_ML/env/lib/python3.9/site-packages (from requests>=2.24.0->pandas-profiling==3.0.0) (2.0.8)\n",
            "Requirement already satisfied: urllib3<1.27,>=1.21.1 in /Users/bgoudey/Research/Slides/BioInfoSummer2021_ML/env/lib/python3.9/site-packages (from requests>=2.24.0->pandas-profiling==3.0.0) (1.26.7)\n",
            "Requirement already satisfied: setuptools in /Users/bgoudey/Research/Slides/BioInfoSummer2021_ML/env/lib/python3.9/site-packages (from setuptools-scm>=4->matplotlib>=3.2.0->pandas-profiling==3.0.0) (57.4.0)\n",
            "Requirement already satisfied: tomli>=1.0.0 in /Users/bgoudey/Research/Slides/BioInfoSummer2021_ML/env/lib/python3.9/site-packages (from setuptools-scm>=4->matplotlib>=3.2.0->pandas-profiling==3.0.0) (1.2.2)\n",
            "Requirement already satisfied: PyWavelets in /Users/bgoudey/Research/Slides/BioInfoSummer2021_ML/env/lib/python3.9/site-packages (from imagehash->visions[type_image_path]==0.7.1->pandas-profiling==3.0.0) (1.2.0)\n",
            "\u001b[33mWARNING: You are using pip version 21.2.4; however, version 22.3.1 is available.\n",
            "You should consider upgrading via the '/Users/bgoudey/Research/Slides/BioInfoSummer2021_ML/env/bin/python3.9 -m pip install --upgrade pip' command.\u001b[0m\n"
          ]
        }
      ],
      "source": [
        "!pip install pandas-profiling==3.0.0\n",
        "# Load in everything we need\n",
        "import pandas as pd\n",
        "import numpy as np\n",
        "from scipy.stats import multivariate_normal as mvn\n",
        "\n",
        "from sklearn.model_selection import train_test_split, cross_val_score, RepeatedKFold, KFold, GridSearchCV\n",
        "from sklearn import datasets\n",
        "from sklearn import metrics\n",
        "from sklearn import feature_selection\n",
        "from sklearn import linear_model\n",
        "from sklearn.metrics import roc_auc_score\n",
        "from sklearn.preprocessing import StandardScaler\n",
        "from sklearn.pipeline import make_pipeline\n",
        "from sklearn.feature_selection import SelectKBest, f_classif\n",
        "import graphviz \n",
        "\n",
        "# Models\n",
        "from sklearn.ensemble import RandomForestClassifier\n",
        "from sklearn.linear_model import LogisticRegression, Lasso\n",
        "\n",
        "# Plotting\n",
        "import matplotlib.pyplot as plt\n",
        "import seaborn as sns\n",
        "\n",
        "# Pandas-profiling - generates an interactive report\n",
        "from pandas_profiling import ProfileReport\n"
      ]
    },
    {
      "cell_type": "markdown",
      "metadata": {
        "id": "7QWvjl7a9SlJ"
      },
      "source": [
        "## 0.2 Loading helper function"
      ]
    },
    {
      "cell_type": "code",
      "execution_count": 10,
      "metadata": {
        "id": "kKGx6iUV9SlJ"
      },
      "outputs": [],
      "source": [
        "#\n",
        "\n",
        "# Add some random noise to a given data.frame\n",
        "def append_noise(df, n_noise=20):\n",
        "    noise_measures = np.random.rand(df.shape[0],n_noise)\n",
        "    noise_measures = StandardScaler().fit(noise_measures).transform(noise_measures)\n",
        "    noise_names = [\"noise_{}\".format(i) for i in range(n_noise)]\n",
        "    noise_df = pd.DataFrame(data=noise_measures,columns=noise_names)\n",
        "    return(pd.concat([df,noise_df], axis=1))\n",
        "\n",
        "# Change the target to be binary\n",
        "def binarize_y(y):     \n",
        "    return(1*(y>100))\n",
        "\n",
        "# Rename a number of columns to make them more describptive\n",
        "def tidy_diabetes_names(X):     \n",
        "    # We rename the variables to be more descriptive\n",
        "    X.rename({'s1': 'tc', \n",
        "              's2': 'ldl', \n",
        "              's3': 'hdl',\n",
        "              's4': 'tch',\n",
        "              's5': 'ltg',\n",
        "              's6': 'glu',}\n",
        "             , axis=1, inplace=True)\n",
        "    return(X)\n",
        "\n",
        "\n",
        "#\n",
        "#\n",
        "# Generate a new dataset based on the existing diabetes dataset\n",
        "def generate_novel_data(n_samples=1000, n_noise=20):\n",
        "\n",
        "    # Reload the diabetes dataset to retrieve the continuous progression score    \n",
        "    X,y=datasets.load_diabetes(as_frame=True, return_X_y=True)\n",
        "    \n",
        "    # We rename the variables to be more descriptive\n",
        "    X = tidy_diabetes_names(X)\n",
        "\n",
        "    # Combine X and y into a single data.frame\n",
        "    X_y = X.assign(y = y)\n",
        "    \n",
        "    # Based on existing data means and covariance, generate some new data \n",
        "    # (assumes mutlivariate normal, unlikely to be true but good enough)\n",
        "    # Then turn into a data.frame\n",
        "    sim_dat = mvn.rvs(mean = X_y.mean(), cov=X_y.cov(), size = n_samples)\n",
        "    sim_X_y = pd.DataFrame(data = sim_dat, columns = X_y.columns)\n",
        "\n",
        "    # Split back in to X and y\n",
        "    sim_y = binarize_y(sim_X_y['y'])\n",
        "    sim_X = sim_X_y.drop(columns=['y'])\n",
        "    \n",
        "    #If we've specified, add some number of randomly generated features   \n",
        "    if n_noise>0:\n",
        "        sim_X=append_noise(sim_X, n_noise)\n",
        "    \n",
        "    return(sim_X, sim_y)\n",
        "    \n",
        "    \n",
        "#\n",
        "# Load in the diabetes dataset that comes with sklearn. \n",
        "# Then tidy names, binaryise the progression variable and add some noise (if specified)\n",
        "def load_diabetes_data(n_noise=20):\n",
        "    # Load in the data as a data.frame, split into X (features) and y (target) \n",
        "    X,y=datasets.load_diabetes(as_frame=True, return_X_y=True)\n",
        "    \n",
        "    # The defaul names are a bit strange so we clean then up\n",
        "    X = tidy_diabetes_names(X)\n",
        "    \n",
        "    # Target variable is a quantitative measure of disease progression one year after baseline\n",
        "    # that we dichotimise (turn into two groups) to simplify some analysis. \n",
        "    y = binarize_y(y)\n",
        "\n",
        "    #If we've specified, add some number of randomly generated features\n",
        "    if n_noise>0:\n",
        "        X=append_noise(X, n_noise)\n",
        "    \n",
        "    X_sim, y_sim = generate_novel_data(n_samples=1000, n_noise=n_noise)\n",
        "    \n",
        "    return (X, y, X_sim, y_sim)\n",
        "\n",
        "# Plot a ROC curve with a label\n",
        "def plot_roc(y, yp, label=\"\", ax=None):\n",
        "    fpr, tpr, thresh = metrics.roc_curve(y, yp)\n",
        "    auc = metrics.roc_auc_score(y, yp)\n",
        "    if ax:\n",
        "        ax.plot(fpr,tpr,label=\"{} AUC={:.2f}\".format(label, auc))\n",
        "    else:\n",
        "        plt.plot(fpr,tpr,label=\"{} AUC={:.2f}\".format(label, auc))\n"
      ]
    },
    {
      "cell_type": "markdown",
      "metadata": {
        "id": "DY4rIR8e9SlO"
      },
      "source": [
        "# Session 1: Exploring the data and fitting a basic model\n",
        "\n",
        "Here, we will explore a given dataset related to diabetes and fit a basic model using the scikit-learn package.\n",
        "\n",
        "In particular, we aim to\n",
        " - understand the dataset, its variables and their relationship. \n",
        " - introduce the pandas-profiling and scikit-learn packages. \n",
        " - demonstrate how to fit a model using sklearn and look at the outputs. \n",
        "\n",
        "## Background: Dataset\n",
        "\n",
        "We will be making use of a real dataset of 442 diabetes patients as well as a simulated dataset derived from this data. This is relatively small in the machine learning space but is common (or even large) for many clinical/bioinformatics analyses. \n",
        "\n",
        "10 attributes have been measured, with variable names and descriptions given below:\n",
        "- *age*: age in years\n",
        "- *sex*: biological sex of the participant\n",
        "- *bmi*: body mass index\n",
        "- *bp*: average blood pressure\n",
        "- *tc*: total serum cholesterol\n",
        "- *ldl*: low-density lipoproteins\n",
        "- *hdl*: high-density lipoproteins\n",
        "- *tch*: total cholesterol / HDL\n",
        "- *ltg*: possibly log of serum triglycerides level\n",
        "- *glu*: blood sugar level\n",
        "\n",
        "Here, we predict a binary target indicating progression of diabetes after one year or not (1 or 0). This is derived from \"a quantitative measure of disease progression one year after baseline\" (Efron et al. (2004)) though it is unclear exactly what this measurement is. I've threshold this value at 100. \n",
        "\n",
        "\n",
        "We derive a simulated dataset from the original dataset which we treat as an external replication cohort. By default there are 1000 samples in this simulated data. \n",
        "\n",
        "### Analysis aim\n",
        "The analysis goals from this dataset are typical of a predictive task in this area: \n",
        ">Two hopes were evident [from the data], that the model would produce accurate baseline predictions of response for future patients and that the form of the model would suggest which covariates were important factors in disease progression.\n",
        "\n",
        "I'm going to assume a more specific question **\"do blood serum markers help predict diabetes progression beyond age, sex, bmi and blood glucose?\"**. Now we have a specific baseline we can evaluate against. \n",
        "\n",
        "Further information is available at https://scikit-learn.org/stable/datasets/toy_dataset.html#diabetes-dataset and data is taken from the original paper https://tibshirani.su.domains/ftp/lars.pdf.\n",
        "\n",
        "\n",
        " "
      ]
    },
    {
      "cell_type": "markdown",
      "metadata": {
        "id": "ciSrEHOUNOa-"
      },
      "source": [
        "## 1.1 Load in the data\n",
        "We will load in a cleaned-up version of the dataset (using the *load_diabetes_data()* function)."
      ]
    },
    {
      "cell_type": "code",
      "execution_count": 11,
      "metadata": {
        "colab": {
          "base_uri": "https://localhost:8080/"
        },
        "id": "LIpL_BVn9SlP",
        "outputId": "89c44e61-02a8-40c8-dbd2-75a5fd6362fa"
      },
      "outputs": [
        {
          "name": "stdout",
          "output_type": "stream",
          "text": [
            "          age       sex       bmi        bp        tc       ldl       hdl  \\\n",
            "0    0.038076  0.050680  0.061696  0.021872 -0.044223 -0.034821 -0.043401   \n",
            "1   -0.001882 -0.044642 -0.051474 -0.026328 -0.008449 -0.019163  0.074412   \n",
            "2    0.085299  0.050680  0.044451 -0.005671 -0.045599 -0.034194 -0.032356   \n",
            "3   -0.089063 -0.044642 -0.011595 -0.036656  0.012191  0.024991 -0.036038   \n",
            "4    0.005383 -0.044642 -0.036385  0.021872  0.003935  0.015596  0.008142   \n",
            "..        ...       ...       ...       ...       ...       ...       ...   \n",
            "437  0.041708  0.050680  0.019662  0.059744 -0.005697 -0.002566 -0.028674   \n",
            "438 -0.005515  0.050680 -0.015906 -0.067642  0.049341  0.079165 -0.028674   \n",
            "439  0.041708  0.050680 -0.015906  0.017282 -0.037344 -0.013840 -0.024993   \n",
            "440 -0.045472 -0.044642  0.039062  0.001215  0.016318  0.015283 -0.028674   \n",
            "441 -0.045472 -0.044642 -0.073030 -0.081414  0.083740  0.027809  0.173816   \n",
            "\n",
            "          tch       ltg       glu  ...  noise_30  noise_31  noise_32  \\\n",
            "0   -0.002592  0.019908 -0.017646  ... -1.696071 -0.317274 -0.592010   \n",
            "1   -0.039493 -0.068330 -0.092204  ...  1.563985  0.332184  0.197744   \n",
            "2   -0.002592  0.002864 -0.025930  ... -0.971346 -1.595370  0.910267   \n",
            "3    0.034309  0.022692 -0.009362  ...  1.135008  0.927819  1.440734   \n",
            "4   -0.002592 -0.031991 -0.046641  ...  1.010638  0.439975  1.255172   \n",
            "..        ...       ...       ...  ...       ...       ...       ...   \n",
            "437 -0.002592  0.031193  0.007207  ... -0.272324 -1.562127  1.571697   \n",
            "438  0.034309 -0.018118  0.044485  ... -0.381536 -1.016377 -1.604166   \n",
            "439 -0.011080 -0.046879  0.015491  ...  0.421056 -1.393891 -0.772275   \n",
            "440  0.026560  0.044528 -0.025930  ...  0.031601  0.748394 -1.651083   \n",
            "441 -0.039493 -0.004220  0.003064  ...  0.461874  0.335100  0.037455   \n",
            "\n",
            "     noise_33  noise_34  noise_35  noise_36  noise_37  noise_38  noise_39  \n",
            "0   -0.647909  0.878981 -0.084416  1.106546  1.481337 -0.848240  1.001195  \n",
            "1   -1.151230  0.590141 -0.387011 -0.606969  1.658497 -1.263555 -1.433422  \n",
            "2   -0.385016 -1.328914  0.163486  1.351451 -0.922163 -0.755199 -0.968853  \n",
            "3    1.142277  0.363929 -1.405943 -0.929737 -0.777582 -0.215998 -1.701772  \n",
            "4    0.393153 -1.345691  0.590244  0.220316  1.339221 -0.878923 -0.761338  \n",
            "..        ...       ...       ...       ...       ...       ...       ...  \n",
            "437 -1.551693 -1.154101  0.624636 -1.055310 -0.831612 -0.428099 -1.033881  \n",
            "438  1.270258  1.131842  0.004238  0.091453  1.595186 -1.519750  0.013971  \n",
            "439 -0.385430 -0.685471 -1.475150  0.966040  0.506002 -0.116495  0.826702  \n",
            "440  0.222062 -1.625077 -1.424686 -1.148683 -1.557931 -0.683695  0.408929  \n",
            "441  0.806855 -0.969523  0.620489  0.656130 -0.838626  1.708848 -1.298104  \n",
            "\n",
            "[442 rows x 50 columns]\n"
          ]
        }
      ],
      "source": [
        "# This cell creates of the dataframe that has been entered. \n",
        "X, y, X_ext, y_ext = load_diabetes_data(n_noise=40)\n",
        "\n",
        "print(X)"
      ]
    },
    {
      "cell_type": "markdown",
      "metadata": {
        "id": "HwVH1-DB9SlR"
      },
      "source": [
        "## 1.2 Data exploration\n",
        "We'll begin by exploring the data that is available. While we have a description of the fields, understanding the relationships between individual features and their relationship with the outcome of interest is informative for helping to understand downstream. \n",
        "\n",
        "Rather than try to generate a bunch of plots manually, we can make use of a package called *pandas-profiling*, which provides a bunch of handy plots. *This will take a minute or two to run*. After that a small report below will be generated that provides an overview of the different features and their relationships. \n",
        "\n",
        "**Examine the following:**\n",
        "\n",
        "1. What are the different types of features - which are numerical? which are categorical? are any unclear?\n",
        "2. Which features are correlated with each other? How strong are these?\n",
        "3. Is there anything unexpected about the data?\n",
        "4. Is there any missing data?\n",
        "5. What does the target variable look like? What is its distribution? Are there any obvious relationships?\n",
        "\n"
      ]
    },
    {
      "cell_type": "code",
      "execution_count": 12,
      "metadata": {
        "colab": {
          "base_uri": "https://localhost:8080/",
          "height": 871,
          "referenced_widgets": [
            "80ad4f7361e340e5a5ff87edb57c4bc5",
            "2210402b98fb4bf2a1627cba57c386e2",
            "1e075c7bb2b341fb9d3be3948631d9c6",
            "0e52c6cba9864d0f89c9171c038226e8",
            "e0b6ba0328cc49c19598d544f64a6e63",
            "748a8e9291584a6bb88da45a5977c4d8",
            "3990a336e1d14dcb9eb37f9dfc10a710",
            "88e9ee2dbb29440fa181bb656fc90407",
            "1b927521ecab43bc937c7fad732e4138",
            "d3fc7bdc02c0491c8e6b6498984fba6a",
            "c515e2a0d3c64229839059a29ac2db46",
            "54d8f558ba794237bee5256118ba0e00"
          ]
        },
        "id": "zY6W_IAa9SlS",
        "outputId": "f73a955e-5a58-4eb1-9d33-0bb29c0227a7"
      },
      "outputs": [
        {
          "name": "stderr",
          "output_type": "stream",
          "text": [
            "Summarize dataset:   0%|          | 0/22 [00:00<?, ?it/s]\n"
          ]
        },
        {
          "ename": "KeyboardInterrupt",
          "evalue": "",
          "output_type": "error",
          "traceback": [
            "\u001b[0;31m---------------------------------------------------------------------------\u001b[0m",
            "\u001b[0;31mKeyboardInterrupt\u001b[0m                         Traceback (most recent call last)",
            "\u001b[0;32m/var/folders/5r/86wqlmq91p9fc7ljpbmz08vw0000gp/T/ipykernel_59161/3408471931.py\u001b[0m in \u001b[0;36m<module>\u001b[0;34m\u001b[0m\n\u001b[1;32m     12\u001b[0m \u001b[0;31m#profile.to_widgets()\u001b[0m\u001b[0;34m\u001b[0m\u001b[0;34m\u001b[0m\u001b[0m\n\u001b[1;32m     13\u001b[0m \u001b[0;31m# If you've installed pandas-profiling 3.1.0, you may need to replace the previous line, with the comment below.\u001b[0m\u001b[0;34m\u001b[0m\u001b[0;34m\u001b[0m\u001b[0m\n\u001b[0;32m---> 14\u001b[0;31m \u001b[0mprofile\u001b[0m\u001b[0;34m.\u001b[0m\u001b[0mto_notebook_iframe\u001b[0m\u001b[0;34m(\u001b[0m\u001b[0;34m)\u001b[0m\u001b[0;34m\u001b[0m\u001b[0;34m\u001b[0m\u001b[0m\n\u001b[0m",
            "\u001b[0;32m~/Research/Slides/BioInfoSummer2021_ML/env/lib/python3.9/site-packages/pandas_profiling/profile_report.py\u001b[0m in \u001b[0;36mto_notebook_iframe\u001b[0;34m(self)\u001b[0m\n\u001b[1;32m    400\u001b[0m         \u001b[0;32mwith\u001b[0m \u001b[0mwarnings\u001b[0m\u001b[0;34m.\u001b[0m\u001b[0mcatch_warnings\u001b[0m\u001b[0;34m(\u001b[0m\u001b[0;34m)\u001b[0m\u001b[0;34m:\u001b[0m\u001b[0;34m\u001b[0m\u001b[0;34m\u001b[0m\u001b[0m\n\u001b[1;32m    401\u001b[0m             \u001b[0mwarnings\u001b[0m\u001b[0;34m.\u001b[0m\u001b[0msimplefilter\u001b[0m\u001b[0;34m(\u001b[0m\u001b[0;34m\"ignore\"\u001b[0m\u001b[0;34m)\u001b[0m\u001b[0;34m\u001b[0m\u001b[0;34m\u001b[0m\u001b[0m\n\u001b[0;32m--> 402\u001b[0;31m             \u001b[0mdisplay\u001b[0m\u001b[0;34m(\u001b[0m\u001b[0mget_notebook_iframe\u001b[0m\u001b[0;34m(\u001b[0m\u001b[0mself\u001b[0m\u001b[0;34m.\u001b[0m\u001b[0mconfig\u001b[0m\u001b[0;34m,\u001b[0m \u001b[0mself\u001b[0m\u001b[0;34m)\u001b[0m\u001b[0;34m)\u001b[0m\u001b[0;34m\u001b[0m\u001b[0;34m\u001b[0m\u001b[0m\n\u001b[0m\u001b[1;32m    403\u001b[0m \u001b[0;34m\u001b[0m\u001b[0m\n\u001b[1;32m    404\u001b[0m     \u001b[0;32mdef\u001b[0m \u001b[0mto_widgets\u001b[0m\u001b[0;34m(\u001b[0m\u001b[0mself\u001b[0m\u001b[0;34m)\u001b[0m \u001b[0;34m->\u001b[0m \u001b[0;32mNone\u001b[0m\u001b[0;34m:\u001b[0m\u001b[0;34m\u001b[0m\u001b[0;34m\u001b[0m\u001b[0m\n",
            "\u001b[0;32m~/Research/Slides/BioInfoSummer2021_ML/env/lib/python3.9/site-packages/pandas_profiling/report/presentation/flavours/widget/notebook.py\u001b[0m in \u001b[0;36mget_notebook_iframe\u001b[0;34m(config, profile)\u001b[0m\n\u001b[1;32m     73\u001b[0m         \u001b[0moutput\u001b[0m \u001b[0;34m=\u001b[0m \u001b[0mget_notebook_iframe_src\u001b[0m\u001b[0;34m(\u001b[0m\u001b[0mconfig\u001b[0m\u001b[0;34m,\u001b[0m \u001b[0mprofile\u001b[0m\u001b[0;34m)\u001b[0m\u001b[0;34m\u001b[0m\u001b[0;34m\u001b[0m\u001b[0m\n\u001b[1;32m     74\u001b[0m     \u001b[0;32melif\u001b[0m \u001b[0mattribute\u001b[0m \u001b[0;34m==\u001b[0m \u001b[0mIframeAttribute\u001b[0m\u001b[0;34m.\u001b[0m\u001b[0msrcdoc\u001b[0m\u001b[0;34m:\u001b[0m\u001b[0;34m\u001b[0m\u001b[0;34m\u001b[0m\u001b[0m\n\u001b[0;32m---> 75\u001b[0;31m         \u001b[0moutput\u001b[0m \u001b[0;34m=\u001b[0m \u001b[0mget_notebook_iframe_srcdoc\u001b[0m\u001b[0;34m(\u001b[0m\u001b[0mconfig\u001b[0m\u001b[0;34m,\u001b[0m \u001b[0mprofile\u001b[0m\u001b[0;34m)\u001b[0m\u001b[0;34m\u001b[0m\u001b[0;34m\u001b[0m\u001b[0m\n\u001b[0m\u001b[1;32m     76\u001b[0m     \u001b[0;32melse\u001b[0m\u001b[0;34m:\u001b[0m\u001b[0;34m\u001b[0m\u001b[0;34m\u001b[0m\u001b[0m\n\u001b[1;32m     77\u001b[0m         raise ValueError(\n",
            "\u001b[0;32m~/Research/Slides/BioInfoSummer2021_ML/env/lib/python3.9/site-packages/pandas_profiling/report/presentation/flavours/widget/notebook.py\u001b[0m in \u001b[0;36mget_notebook_iframe_srcdoc\u001b[0;34m(config, profile)\u001b[0m\n\u001b[1;32m     27\u001b[0m     \u001b[0mwidth\u001b[0m \u001b[0;34m=\u001b[0m \u001b[0mconfig\u001b[0m\u001b[0;34m.\u001b[0m\u001b[0mnotebook\u001b[0m\u001b[0;34m.\u001b[0m\u001b[0miframe\u001b[0m\u001b[0;34m.\u001b[0m\u001b[0mwidth\u001b[0m\u001b[0;34m\u001b[0m\u001b[0;34m\u001b[0m\u001b[0m\n\u001b[1;32m     28\u001b[0m     \u001b[0mheight\u001b[0m \u001b[0;34m=\u001b[0m \u001b[0mconfig\u001b[0m\u001b[0;34m.\u001b[0m\u001b[0mnotebook\u001b[0m\u001b[0;34m.\u001b[0m\u001b[0miframe\u001b[0m\u001b[0;34m.\u001b[0m\u001b[0mheight\u001b[0m\u001b[0;34m\u001b[0m\u001b[0;34m\u001b[0m\u001b[0m\n\u001b[0;32m---> 29\u001b[0;31m     \u001b[0msrc\u001b[0m \u001b[0;34m=\u001b[0m \u001b[0mhtml\u001b[0m\u001b[0;34m.\u001b[0m\u001b[0mescape\u001b[0m\u001b[0;34m(\u001b[0m\u001b[0mprofile\u001b[0m\u001b[0;34m.\u001b[0m\u001b[0mto_html\u001b[0m\u001b[0;34m(\u001b[0m\u001b[0;34m)\u001b[0m\u001b[0;34m)\u001b[0m\u001b[0;34m\u001b[0m\u001b[0;34m\u001b[0m\u001b[0m\n\u001b[0m\u001b[1;32m     30\u001b[0m \u001b[0;34m\u001b[0m\u001b[0m\n\u001b[1;32m     31\u001b[0m     \u001b[0miframe\u001b[0m \u001b[0;34m=\u001b[0m \u001b[0;34mf'<iframe width=\"{width}\" height=\"{height}\" srcdoc=\"{src}\" frameborder=\"0\" allowfullscreen></iframe>'\u001b[0m\u001b[0;34m\u001b[0m\u001b[0;34m\u001b[0m\u001b[0m\n",
            "\u001b[0;32m~/Research/Slides/BioInfoSummer2021_ML/env/lib/python3.9/site-packages/pandas_profiling/profile_report.py\u001b[0m in \u001b[0;36mto_html\u001b[0;34m(self)\u001b[0m\n\u001b[1;32m    370\u001b[0m \u001b[0;34m\u001b[0m\u001b[0m\n\u001b[1;32m    371\u001b[0m         \"\"\"\n\u001b[0;32m--> 372\u001b[0;31m         \u001b[0;32mreturn\u001b[0m \u001b[0mself\u001b[0m\u001b[0;34m.\u001b[0m\u001b[0mhtml\u001b[0m\u001b[0;34m\u001b[0m\u001b[0;34m\u001b[0m\u001b[0m\n\u001b[0m\u001b[1;32m    373\u001b[0m \u001b[0;34m\u001b[0m\u001b[0m\n\u001b[1;32m    374\u001b[0m     \u001b[0;32mdef\u001b[0m \u001b[0mto_json\u001b[0m\u001b[0;34m(\u001b[0m\u001b[0mself\u001b[0m\u001b[0;34m)\u001b[0m \u001b[0;34m->\u001b[0m \u001b[0mstr\u001b[0m\u001b[0;34m:\u001b[0m\u001b[0;34m\u001b[0m\u001b[0;34m\u001b[0m\u001b[0m\n",
            "\u001b[0;32m~/Research/Slides/BioInfoSummer2021_ML/env/lib/python3.9/site-packages/pandas_profiling/profile_report.py\u001b[0m in \u001b[0;36mhtml\u001b[0;34m(self)\u001b[0m\n\u001b[1;32m    187\u001b[0m     \u001b[0;32mdef\u001b[0m \u001b[0mhtml\u001b[0m\u001b[0;34m(\u001b[0m\u001b[0mself\u001b[0m\u001b[0;34m)\u001b[0m \u001b[0;34m->\u001b[0m \u001b[0mstr\u001b[0m\u001b[0;34m:\u001b[0m\u001b[0;34m\u001b[0m\u001b[0;34m\u001b[0m\u001b[0m\n\u001b[1;32m    188\u001b[0m         \u001b[0;32mif\u001b[0m \u001b[0mself\u001b[0m\u001b[0;34m.\u001b[0m\u001b[0m_html\u001b[0m \u001b[0;32mis\u001b[0m \u001b[0;32mNone\u001b[0m\u001b[0;34m:\u001b[0m\u001b[0;34m\u001b[0m\u001b[0;34m\u001b[0m\u001b[0m\n\u001b[0;32m--> 189\u001b[0;31m             \u001b[0mself\u001b[0m\u001b[0;34m.\u001b[0m\u001b[0m_html\u001b[0m \u001b[0;34m=\u001b[0m \u001b[0mself\u001b[0m\u001b[0;34m.\u001b[0m\u001b[0m_render_html\u001b[0m\u001b[0;34m(\u001b[0m\u001b[0;34m)\u001b[0m\u001b[0;34m\u001b[0m\u001b[0;34m\u001b[0m\u001b[0m\n\u001b[0m\u001b[1;32m    190\u001b[0m         \u001b[0;32mreturn\u001b[0m \u001b[0mself\u001b[0m\u001b[0;34m.\u001b[0m\u001b[0m_html\u001b[0m\u001b[0;34m\u001b[0m\u001b[0;34m\u001b[0m\u001b[0m\n\u001b[1;32m    191\u001b[0m \u001b[0;34m\u001b[0m\u001b[0m\n",
            "\u001b[0;32m~/Research/Slides/BioInfoSummer2021_ML/env/lib/python3.9/site-packages/pandas_profiling/profile_report.py\u001b[0m in \u001b[0;36m_render_html\u001b[0;34m(self)\u001b[0m\n\u001b[1;32m    289\u001b[0m         \u001b[0;32mfrom\u001b[0m \u001b[0mpandas_profiling\u001b[0m\u001b[0;34m.\u001b[0m\u001b[0mreport\u001b[0m\u001b[0;34m.\u001b[0m\u001b[0mpresentation\u001b[0m\u001b[0;34m.\u001b[0m\u001b[0mflavours\u001b[0m \u001b[0;32mimport\u001b[0m \u001b[0mHTMLReport\u001b[0m\u001b[0;34m\u001b[0m\u001b[0;34m\u001b[0m\u001b[0m\n\u001b[1;32m    290\u001b[0m \u001b[0;34m\u001b[0m\u001b[0m\n\u001b[0;32m--> 291\u001b[0;31m         \u001b[0mreport\u001b[0m \u001b[0;34m=\u001b[0m \u001b[0mself\u001b[0m\u001b[0;34m.\u001b[0m\u001b[0mreport\u001b[0m\u001b[0;34m\u001b[0m\u001b[0;34m\u001b[0m\u001b[0m\n\u001b[0m\u001b[1;32m    292\u001b[0m \u001b[0;34m\u001b[0m\u001b[0m\n\u001b[1;32m    293\u001b[0m         with tqdm(\n",
            "\u001b[0;32m~/Research/Slides/BioInfoSummer2021_ML/env/lib/python3.9/site-packages/pandas_profiling/profile_report.py\u001b[0m in \u001b[0;36mreport\u001b[0;34m(self)\u001b[0m\n\u001b[1;32m    181\u001b[0m     \u001b[0;32mdef\u001b[0m \u001b[0mreport\u001b[0m\u001b[0;34m(\u001b[0m\u001b[0mself\u001b[0m\u001b[0;34m)\u001b[0m \u001b[0;34m->\u001b[0m \u001b[0mRoot\u001b[0m\u001b[0;34m:\u001b[0m\u001b[0;34m\u001b[0m\u001b[0;34m\u001b[0m\u001b[0m\n\u001b[1;32m    182\u001b[0m         \u001b[0;32mif\u001b[0m \u001b[0mself\u001b[0m\u001b[0;34m.\u001b[0m\u001b[0m_report\u001b[0m \u001b[0;32mis\u001b[0m \u001b[0;32mNone\u001b[0m\u001b[0;34m:\u001b[0m\u001b[0;34m\u001b[0m\u001b[0;34m\u001b[0m\u001b[0m\n\u001b[0;32m--> 183\u001b[0;31m             \u001b[0mself\u001b[0m\u001b[0;34m.\u001b[0m\u001b[0m_report\u001b[0m \u001b[0;34m=\u001b[0m \u001b[0mget_report_structure\u001b[0m\u001b[0;34m(\u001b[0m\u001b[0mself\u001b[0m\u001b[0;34m.\u001b[0m\u001b[0mconfig\u001b[0m\u001b[0;34m,\u001b[0m \u001b[0mself\u001b[0m\u001b[0;34m.\u001b[0m\u001b[0mdescription_set\u001b[0m\u001b[0;34m)\u001b[0m\u001b[0;34m\u001b[0m\u001b[0;34m\u001b[0m\u001b[0m\n\u001b[0m\u001b[1;32m    184\u001b[0m         \u001b[0;32mreturn\u001b[0m \u001b[0mself\u001b[0m\u001b[0;34m.\u001b[0m\u001b[0m_report\u001b[0m\u001b[0;34m\u001b[0m\u001b[0;34m\u001b[0m\u001b[0m\n\u001b[1;32m    185\u001b[0m \u001b[0;34m\u001b[0m\u001b[0m\n",
            "\u001b[0;32m~/Research/Slides/BioInfoSummer2021_ML/env/lib/python3.9/site-packages/pandas_profiling/profile_report.py\u001b[0m in \u001b[0;36mdescription_set\u001b[0;34m(self)\u001b[0m\n\u001b[1;32m    163\u001b[0m     \u001b[0;32mdef\u001b[0m \u001b[0mdescription_set\u001b[0m\u001b[0;34m(\u001b[0m\u001b[0mself\u001b[0m\u001b[0;34m)\u001b[0m \u001b[0;34m->\u001b[0m \u001b[0mDict\u001b[0m\u001b[0;34m[\u001b[0m\u001b[0mstr\u001b[0m\u001b[0;34m,\u001b[0m \u001b[0mAny\u001b[0m\u001b[0;34m]\u001b[0m\u001b[0;34m:\u001b[0m\u001b[0;34m\u001b[0m\u001b[0;34m\u001b[0m\u001b[0m\n\u001b[1;32m    164\u001b[0m         \u001b[0;32mif\u001b[0m \u001b[0mself\u001b[0m\u001b[0;34m.\u001b[0m\u001b[0m_description_set\u001b[0m \u001b[0;32mis\u001b[0m \u001b[0;32mNone\u001b[0m\u001b[0;34m:\u001b[0m\u001b[0;34m\u001b[0m\u001b[0;34m\u001b[0m\u001b[0m\n\u001b[0;32m--> 165\u001b[0;31m             self._description_set = describe_df(\n\u001b[0m\u001b[1;32m    166\u001b[0m                 \u001b[0mself\u001b[0m\u001b[0;34m.\u001b[0m\u001b[0mconfig\u001b[0m\u001b[0;34m,\u001b[0m\u001b[0;34m\u001b[0m\u001b[0;34m\u001b[0m\u001b[0m\n\u001b[1;32m    167\u001b[0m                 \u001b[0mself\u001b[0m\u001b[0;34m.\u001b[0m\u001b[0mdf\u001b[0m\u001b[0;34m,\u001b[0m\u001b[0;34m\u001b[0m\u001b[0;34m\u001b[0m\u001b[0m\n",
            "\u001b[0;32m~/Research/Slides/BioInfoSummer2021_ML/env/lib/python3.9/site-packages/pandas_profiling/model/describe.py\u001b[0m in \u001b[0;36mdescribe\u001b[0;34m(config, df, summarizer, typeset, sample)\u001b[0m\n\u001b[1;32m     74\u001b[0m         \u001b[0mtotal\u001b[0m\u001b[0;34m=\u001b[0m\u001b[0mnumber_of_tasks\u001b[0m\u001b[0;34m,\u001b[0m \u001b[0mdesc\u001b[0m\u001b[0;34m=\u001b[0m\u001b[0;34m\"Summarize dataset\"\u001b[0m\u001b[0;34m,\u001b[0m \u001b[0mdisable\u001b[0m\u001b[0;34m=\u001b[0m\u001b[0mdisable_progress_bar\u001b[0m\u001b[0;34m\u001b[0m\u001b[0;34m\u001b[0m\u001b[0m\n\u001b[1;32m     75\u001b[0m     ) as pbar:\n\u001b[0;32m---> 76\u001b[0;31m         series_description = get_series_descriptions(\n\u001b[0m\u001b[1;32m     77\u001b[0m             \u001b[0mconfig\u001b[0m\u001b[0;34m,\u001b[0m \u001b[0mdf\u001b[0m\u001b[0;34m,\u001b[0m \u001b[0msummarizer\u001b[0m\u001b[0;34m,\u001b[0m \u001b[0mtypeset\u001b[0m\u001b[0;34m,\u001b[0m \u001b[0mpbar\u001b[0m\u001b[0;34m\u001b[0m\u001b[0;34m\u001b[0m\u001b[0m\n\u001b[1;32m     78\u001b[0m         )\n",
            "\u001b[0;32m~/Research/Slides/BioInfoSummer2021_ML/env/lib/python3.9/site-packages/pandas_profiling/model/summary.py\u001b[0m in \u001b[0;36mget_series_descriptions\u001b[0;34m(config, df, summarizer, typeset, pbar)\u001b[0m\n\u001b[1;32m    114\u001b[0m     \u001b[0;32melse\u001b[0m\u001b[0;34m:\u001b[0m\u001b[0;34m\u001b[0m\u001b[0;34m\u001b[0m\u001b[0m\n\u001b[1;32m    115\u001b[0m         \u001b[0;31m# TODO: use `Pool` for Linux-based systems\u001b[0m\u001b[0;34m\u001b[0m\u001b[0;34m\u001b[0m\u001b[0m\n\u001b[0;32m--> 116\u001b[0;31m         \u001b[0;32mwith\u001b[0m \u001b[0mmultiprocessing\u001b[0m\u001b[0;34m.\u001b[0m\u001b[0mpool\u001b[0m\u001b[0;34m.\u001b[0m\u001b[0mThreadPool\u001b[0m\u001b[0;34m(\u001b[0m\u001b[0mpool_size\u001b[0m\u001b[0;34m)\u001b[0m \u001b[0;32mas\u001b[0m \u001b[0mexecutor\u001b[0m\u001b[0;34m:\u001b[0m\u001b[0;34m\u001b[0m\u001b[0;34m\u001b[0m\u001b[0m\n\u001b[0m\u001b[1;32m    117\u001b[0m             for i, (column, description) in enumerate(\n\u001b[1;32m    118\u001b[0m                 \u001b[0mexecutor\u001b[0m\u001b[0;34m.\u001b[0m\u001b[0mimap_unordered\u001b[0m\u001b[0;34m(\u001b[0m\u001b[0mmultiprocess_1d\u001b[0m\u001b[0;34m,\u001b[0m \u001b[0margs\u001b[0m\u001b[0;34m)\u001b[0m\u001b[0;34m\u001b[0m\u001b[0;34m\u001b[0m\u001b[0m\n",
            "\u001b[0;32m/usr/local/Cellar/python@3.9/3.9.15/Frameworks/Python.framework/Versions/3.9/lib/python3.9/multiprocessing/pool.py\u001b[0m in \u001b[0;36m__init__\u001b[0;34m(self, processes, initializer, initargs)\u001b[0m\n\u001b[1;32m    925\u001b[0m \u001b[0;34m\u001b[0m\u001b[0m\n\u001b[1;32m    926\u001b[0m     \u001b[0;32mdef\u001b[0m \u001b[0m__init__\u001b[0m\u001b[0;34m(\u001b[0m\u001b[0mself\u001b[0m\u001b[0;34m,\u001b[0m \u001b[0mprocesses\u001b[0m\u001b[0;34m=\u001b[0m\u001b[0;32mNone\u001b[0m\u001b[0;34m,\u001b[0m \u001b[0minitializer\u001b[0m\u001b[0;34m=\u001b[0m\u001b[0;32mNone\u001b[0m\u001b[0;34m,\u001b[0m \u001b[0minitargs\u001b[0m\u001b[0;34m=\u001b[0m\u001b[0;34m(\u001b[0m\u001b[0;34m)\u001b[0m\u001b[0;34m)\u001b[0m\u001b[0;34m:\u001b[0m\u001b[0;34m\u001b[0m\u001b[0;34m\u001b[0m\u001b[0m\n\u001b[0;32m--> 927\u001b[0;31m         \u001b[0mPool\u001b[0m\u001b[0;34m.\u001b[0m\u001b[0m__init__\u001b[0m\u001b[0;34m(\u001b[0m\u001b[0mself\u001b[0m\u001b[0;34m,\u001b[0m \u001b[0mprocesses\u001b[0m\u001b[0;34m,\u001b[0m \u001b[0minitializer\u001b[0m\u001b[0;34m,\u001b[0m \u001b[0minitargs\u001b[0m\u001b[0;34m)\u001b[0m\u001b[0;34m\u001b[0m\u001b[0;34m\u001b[0m\u001b[0m\n\u001b[0m\u001b[1;32m    928\u001b[0m \u001b[0;34m\u001b[0m\u001b[0m\n\u001b[1;32m    929\u001b[0m     \u001b[0;32mdef\u001b[0m \u001b[0m_setup_queues\u001b[0m\u001b[0;34m(\u001b[0m\u001b[0mself\u001b[0m\u001b[0;34m)\u001b[0m\u001b[0;34m:\u001b[0m\u001b[0;34m\u001b[0m\u001b[0;34m\u001b[0m\u001b[0m\n",
            "\u001b[0;32m/usr/local/Cellar/python@3.9/3.9.15/Frameworks/Python.framework/Versions/3.9/lib/python3.9/multiprocessing/pool.py\u001b[0m in \u001b[0;36m__init__\u001b[0;34m(self, processes, initializer, initargs, maxtasksperchild, context)\u001b[0m\n\u001b[1;32m    240\u001b[0m         \u001b[0mself\u001b[0m\u001b[0;34m.\u001b[0m\u001b[0m_task_handler\u001b[0m\u001b[0;34m.\u001b[0m\u001b[0mdaemon\u001b[0m \u001b[0;34m=\u001b[0m \u001b[0;32mTrue\u001b[0m\u001b[0;34m\u001b[0m\u001b[0;34m\u001b[0m\u001b[0m\n\u001b[1;32m    241\u001b[0m         \u001b[0mself\u001b[0m\u001b[0;34m.\u001b[0m\u001b[0m_task_handler\u001b[0m\u001b[0;34m.\u001b[0m\u001b[0m_state\u001b[0m \u001b[0;34m=\u001b[0m \u001b[0mRUN\u001b[0m\u001b[0;34m\u001b[0m\u001b[0;34m\u001b[0m\u001b[0m\n\u001b[0;32m--> 242\u001b[0;31m         \u001b[0mself\u001b[0m\u001b[0;34m.\u001b[0m\u001b[0m_task_handler\u001b[0m\u001b[0;34m.\u001b[0m\u001b[0mstart\u001b[0m\u001b[0;34m(\u001b[0m\u001b[0;34m)\u001b[0m\u001b[0;34m\u001b[0m\u001b[0;34m\u001b[0m\u001b[0m\n\u001b[0m\u001b[1;32m    243\u001b[0m \u001b[0;34m\u001b[0m\u001b[0m\n\u001b[1;32m    244\u001b[0m         self._result_handler = threading.Thread(\n",
            "\u001b[0;32m/usr/local/Cellar/python@3.9/3.9.15/Frameworks/Python.framework/Versions/3.9/lib/python3.9/threading.py\u001b[0m in \u001b[0;36mstart\u001b[0;34m(self)\u001b[0m\n\u001b[1;32m    902\u001b[0m                 \u001b[0;32mdel\u001b[0m \u001b[0m_limbo\u001b[0m\u001b[0;34m[\u001b[0m\u001b[0mself\u001b[0m\u001b[0;34m]\u001b[0m\u001b[0;34m\u001b[0m\u001b[0;34m\u001b[0m\u001b[0m\n\u001b[1;32m    903\u001b[0m             \u001b[0;32mraise\u001b[0m\u001b[0;34m\u001b[0m\u001b[0;34m\u001b[0m\u001b[0m\n\u001b[0;32m--> 904\u001b[0;31m         \u001b[0mself\u001b[0m\u001b[0;34m.\u001b[0m\u001b[0m_started\u001b[0m\u001b[0;34m.\u001b[0m\u001b[0mwait\u001b[0m\u001b[0;34m(\u001b[0m\u001b[0;34m)\u001b[0m\u001b[0;34m\u001b[0m\u001b[0;34m\u001b[0m\u001b[0m\n\u001b[0m\u001b[1;32m    905\u001b[0m \u001b[0;34m\u001b[0m\u001b[0m\n\u001b[1;32m    906\u001b[0m     \u001b[0;32mdef\u001b[0m \u001b[0mrun\u001b[0m\u001b[0;34m(\u001b[0m\u001b[0mself\u001b[0m\u001b[0;34m)\u001b[0m\u001b[0;34m:\u001b[0m\u001b[0;34m\u001b[0m\u001b[0;34m\u001b[0m\u001b[0m\n",
            "\u001b[0;32m/usr/local/Cellar/python@3.9/3.9.15/Frameworks/Python.framework/Versions/3.9/lib/python3.9/threading.py\u001b[0m in \u001b[0;36mwait\u001b[0;34m(self, timeout)\u001b[0m\n\u001b[1;32m    579\u001b[0m             \u001b[0msignaled\u001b[0m \u001b[0;34m=\u001b[0m \u001b[0mself\u001b[0m\u001b[0;34m.\u001b[0m\u001b[0m_flag\u001b[0m\u001b[0;34m\u001b[0m\u001b[0;34m\u001b[0m\u001b[0m\n\u001b[1;32m    580\u001b[0m             \u001b[0;32mif\u001b[0m \u001b[0;32mnot\u001b[0m \u001b[0msignaled\u001b[0m\u001b[0;34m:\u001b[0m\u001b[0;34m\u001b[0m\u001b[0;34m\u001b[0m\u001b[0m\n\u001b[0;32m--> 581\u001b[0;31m                 \u001b[0msignaled\u001b[0m \u001b[0;34m=\u001b[0m \u001b[0mself\u001b[0m\u001b[0;34m.\u001b[0m\u001b[0m_cond\u001b[0m\u001b[0;34m.\u001b[0m\u001b[0mwait\u001b[0m\u001b[0;34m(\u001b[0m\u001b[0mtimeout\u001b[0m\u001b[0;34m)\u001b[0m\u001b[0;34m\u001b[0m\u001b[0;34m\u001b[0m\u001b[0m\n\u001b[0m\u001b[1;32m    582\u001b[0m             \u001b[0;32mreturn\u001b[0m \u001b[0msignaled\u001b[0m\u001b[0;34m\u001b[0m\u001b[0;34m\u001b[0m\u001b[0m\n\u001b[1;32m    583\u001b[0m \u001b[0;34m\u001b[0m\u001b[0m\n",
            "\u001b[0;32m/usr/local/Cellar/python@3.9/3.9.15/Frameworks/Python.framework/Versions/3.9/lib/python3.9/threading.py\u001b[0m in \u001b[0;36mwait\u001b[0;34m(self, timeout)\u001b[0m\n\u001b[1;32m    310\u001b[0m         \u001b[0;32mtry\u001b[0m\u001b[0;34m:\u001b[0m    \u001b[0;31m# restore state no matter what (e.g., KeyboardInterrupt)\u001b[0m\u001b[0;34m\u001b[0m\u001b[0;34m\u001b[0m\u001b[0m\n\u001b[1;32m    311\u001b[0m             \u001b[0;32mif\u001b[0m \u001b[0mtimeout\u001b[0m \u001b[0;32mis\u001b[0m \u001b[0;32mNone\u001b[0m\u001b[0;34m:\u001b[0m\u001b[0;34m\u001b[0m\u001b[0;34m\u001b[0m\u001b[0m\n\u001b[0;32m--> 312\u001b[0;31m                 \u001b[0mwaiter\u001b[0m\u001b[0;34m.\u001b[0m\u001b[0macquire\u001b[0m\u001b[0;34m(\u001b[0m\u001b[0;34m)\u001b[0m\u001b[0;34m\u001b[0m\u001b[0;34m\u001b[0m\u001b[0m\n\u001b[0m\u001b[1;32m    313\u001b[0m                 \u001b[0mgotit\u001b[0m \u001b[0;34m=\u001b[0m \u001b[0;32mTrue\u001b[0m\u001b[0;34m\u001b[0m\u001b[0;34m\u001b[0m\u001b[0m\n\u001b[1;32m    314\u001b[0m             \u001b[0;32melse\u001b[0m\u001b[0;34m:\u001b[0m\u001b[0;34m\u001b[0m\u001b[0;34m\u001b[0m\u001b[0m\n",
            "\u001b[0;31mKeyboardInterrupt\u001b[0m: "
          ]
        }
      ],
      "source": [
        "# Ignore the noise features for this exploration\n",
        "X_y = X.iloc[:, 0:11].assign(y = y)\n",
        "profile = ProfileReport(X_y, \n",
        "                       correlations={\n",
        "        \"pearson\": {\"calculate\": False},\n",
        "        \"spearman\": {\"calculate\": True},\n",
        "        \"kendall\": {\"calculate\": False},\n",
        "        \"phi_k\": {\"calculate\": True},\n",
        "        \"cramers\": {\"calculate\": False},\n",
        "    })\n",
        "\n",
        "#profile.to_widgets()\n",
        "# If you've installed pandas-profiling 3.1.0, you may need to replace the previous line, with the comment below. \n",
        "profile.to_notebook_iframe()"
      ]
    },
    {
      "cell_type": "markdown",
      "metadata": {
        "id": "GeM844D09SlT"
      },
      "source": [
        "## 1.3 Fitting a model to the data\n",
        "\n",
        "Lets fit a simple logistic regression to the data and look at how well it makes predictions on the data. The code below will fit a simple logistic regression , using only a single predictor (bmi), to allow for simple plots of the fit, and then using all available features. \n",
        "\n",
        "We begin by plotting the data, the model fit and some classic summary statistics. \n",
        "\n",
        "*Questions*:\n",
        " - Which features are the most predictive?\n",
        " - How much improvement to you get if you combined features compared to a model based on individual features?\n",
        " - Try regenerating the dataset with more or less noise. What happens to prediction accuracy as you add more noisy variables?\n",
        " \n"
      ]
    },
    {
      "cell_type": "code",
      "execution_count": null,
      "metadata": {
        "colab": {
          "base_uri": "https://localhost:8080/",
          "height": 460
        },
        "id": "2F0ps1rO9SlX",
        "outputId": "9560297c-0f66-4453-ace9-8f4094e789ab",
        "scrolled": false
      },
      "outputs": [
        {
          "data": {
            "image/png": "[encoded data removed]",
            "text/plain": [
              "<Figure size 1000x500 with 2 Axes>"
            ]
          },
          "metadata": {},
          "output_type": "display_data"
        }
      ],
      "source": [
        "\n",
        "# If you feel like generating a new dataset, uncomment this line. \n",
        "X, y, X_ext, y_ext = load_diabetes_data(n_noise=20)\n",
        "\n",
        "# The features used to construct the model\n",
        "# Change these and see how the results change\n",
        "# This option would include all features\n",
        "features= X.columns\n",
        "\n",
        "# We can also look at individual features\n",
        "#features=\"bmi\"\n",
        "#features=\"age\"\n",
        "#features=\"noise_1\"\n",
        "\n",
        "# This set will include 4 features\n",
        "#features=[\"age\", \"sex\", \"bmi\", \"glu\"]\n",
        "\n",
        "\n",
        "# sklearn models expect a 2D array. However, when only a single column is selected in pandas, it is a\n",
        "# 1D array. This conditional checks for when our input is a single column and turns it into a 2D array for sklearn.  \n",
        "if type(features)==str:\n",
        "    X_train    = X.loc[:, features].values.reshape(-1,1)\n",
        "    X_eval = X_ext.loc[:, features].values.reshape(-1,1)\n",
        "else:\n",
        "    X_train    = X.loc[:, features]\n",
        "    X_eval = X_ext.loc[:, features]\n",
        "        \n",
        "#Construct a classifier\n",
        "clf = LogisticRegression(penalty='none', solver=\"saga\", tol=0.01).fit(X_train, y)\n",
        "\n",
        "# Get predicted labels from the classifier. Here, the 'predict_proba' function returns probabilities of the labels (e.g 75% of belonging to class 1)\n",
        "y_pred = clf.predict_proba(X_train)[:,1]\n",
        "\n",
        "y_ext_pred = clf.predict_proba(X_eval)[:,1]\n",
        "\n",
        "\n",
        "fig, ax=plt.subplots(nrows=1,ncols=2, figsize=(10,5), dpi= 100, facecolor='w', edgecolor='k')\n",
        "\n",
        "# PLot a ROC curve and show the area under the curve. \n",
        "plot_roc(y, y_pred, ax=ax[0], label=\"Training\")\n",
        "plot_roc(y_ext, y_ext_pred, ax=ax[1], label=\"External\")\n",
        "ax[0].legend(loc=0)\n",
        "ax[0].title.set_text('Internal')\n",
        "ax[1].legend(loc=0)\n",
        "ax[1].title.set_text('External')\n"
      ]
    },
    {
      "cell_type": "markdown",
      "metadata": {
        "id": "gFu4xZtE9SlY"
      },
      "source": [
        "## 1.4 Examine top features\n",
        "Logistic regression provides an interpretable model. To see which features are most important, we can look at the coefficients of each variable. Larger absolute values implies more impact in the predictions. \n",
        "\n",
        "\n",
        "**Examine the following:**\n",
        "\n",
        "1. Do any noise variables make it into the top 10?\n",
        "2. What if you generate lots of noise variables (>1000)\n"
      ]
    },
    {
      "cell_type": "code",
      "execution_count": null,
      "metadata": {
        "colab": {
          "base_uri": "https://localhost:8080/",
          "height": 520
        },
        "id": "DHG7UPQM9SlZ",
        "outputId": "ab1a3d5d-402a-4a09-d41c-cc9dfb58f396"
      },
      "outputs": [
        {
          "ename": "AttributeError",
          "evalue": "'DecisionTreeClassifier' object has no attribute 'coef_'",
          "output_type": "error",
          "traceback": [
            "\u001b[0;31m---------------------------------------------------------------------------\u001b[0m",
            "\u001b[0;31mAttributeError\u001b[0m                            Traceback (most recent call last)",
            "\u001b[0;32m/var/folders/5r/86wqlmq91p9fc7ljpbmz08vw0000gp/T/ipykernel_59161/1860932921.py\u001b[0m in \u001b[0;36m<module>\u001b[0;34m\u001b[0m\n\u001b[0;32m----> 1\u001b[0;31m \u001b[0mcoefs_df\u001b[0m \u001b[0;34m=\u001b[0m \u001b[0mpd\u001b[0m\u001b[0;34m.\u001b[0m\u001b[0mDataFrame\u001b[0m\u001b[0;34m.\u001b[0m\u001b[0mfrom_dict\u001b[0m\u001b[0;34m(\u001b[0m\u001b[0;34m{\u001b[0m\u001b[0;34m'feature'\u001b[0m\u001b[0;34m:\u001b[0m\u001b[0mfeatures\u001b[0m\u001b[0;34m,\u001b[0m \u001b[0;34m'coef'\u001b[0m\u001b[0;34m:\u001b[0m\u001b[0mclf\u001b[0m\u001b[0;34m.\u001b[0m\u001b[0mcoef_\u001b[0m\u001b[0;34m[\u001b[0m\u001b[0;36m0\u001b[0m\u001b[0;34m]\u001b[0m\u001b[0;34m}\u001b[0m\u001b[0;34m)\u001b[0m\u001b[0;34m\u001b[0m\u001b[0;34m\u001b[0m\u001b[0m\n\u001b[0m\u001b[1;32m      2\u001b[0m \u001b[0mcoefs_df\u001b[0m\u001b[0;34m.\u001b[0m\u001b[0msort_values\u001b[0m\u001b[0;34m(\u001b[0m\u001b[0mby\u001b[0m\u001b[0;34m=\u001b[0m\u001b[0;34m\"coef\"\u001b[0m\u001b[0;34m,\u001b[0m \u001b[0mkey\u001b[0m\u001b[0;34m=\u001b[0m\u001b[0mnp\u001b[0m\u001b[0;34m.\u001b[0m\u001b[0mabs\u001b[0m\u001b[0;34m,\u001b[0m \u001b[0mascending\u001b[0m\u001b[0;34m=\u001b[0m\u001b[0;32mFalse\u001b[0m\u001b[0;34m)\u001b[0m\u001b[0;34m.\u001b[0m\u001b[0miloc\u001b[0m\u001b[0;34m[\u001b[0m\u001b[0;36m0\u001b[0m\u001b[0;34m:\u001b[0m\u001b[0;36m15\u001b[0m\u001b[0;34m,\u001b[0m \u001b[0;34m:\u001b[0m\u001b[0;34m]\u001b[0m\u001b[0;34m\u001b[0m\u001b[0;34m\u001b[0m\u001b[0m\n",
            "\u001b[0;31mAttributeError\u001b[0m: 'DecisionTreeClassifier' object has no attribute 'coef_'"
          ]
        }
      ],
      "source": [
        "coefs_df = pd.DataFrame.from_dict({'feature':features, 'coef':clf.coef_[0]})\n",
        "coefs_df.sort_values(by=\"coef\", key=np.abs, ascending=False).iloc[0:15, :]"
      ]
    },
    {
      "cell_type": "markdown",
      "metadata": {},
      "source": [
        "<hr style=\"border:2px solid gray\"> </hr>\n",
        "\n",
        "# Session 2: models and metrics in sklearn\n",
        "\n",
        "In the previous example, we fit a logistic regression model to the given dataset and examine its performance using AUC. However, in many studies where we are looking to create a predictive model, we will be interested in creating multiple models based on different underlying algorithms and possibly evaluating them based on different criteria. Here, we demonstrate how these different models and metrics can be called and provide a few examples with our diabetes dataset as to the information you get.      "
      ]
    },
    {
      "cell_type": "markdown",
      "metadata": {},
      "source": [
        "# 2.1 Exploring different models\n",
        "The sklearn has quite a standardised interface for fitting and applying different models. In particular clf.fit(X, y) and clf.predict_proba(X) can be used to fit a model and then extract the probabilities of the predicted classes. Comparable functions exist when looking at continuous or multi-label outcomes. \n",
        "\n",
        "These standardised interfaces allow us to easily explore the impact of different classifiers for a problem. UNderstanding the different assumptions and methods is beyond this workshop. However, we can explore how this is done and talk through the impact of diffent classifiers. \n",
        "\n",
        "\n",
        "\n",
        "\n",
        "**Examine the following:**\n",
        "\n",
        "1. Do any noise variables make it into the top 10?\n",
        "2. What if you generate lots of noise variables (>1000)\n",
        "\n"
      ]
    },
    {
      "cell_type": "code",
      "execution_count": 16,
      "metadata": {},
      "outputs": [
        {
          "data": {
            "image/png": "[encoded data removed]",
            "text/plain": [
              "<Figure size 1000x500 with 2 Axes>"
            ]
          },
          "metadata": {},
          "output_type": "display_data"
        }
      ],
      "source": [
        "from sklearn.ensemble import RandomForestClassifier\n",
        "from sklearn.tree import DecisionTreeClassifier\n",
        "\n",
        "X, y, X_ext, y_ext = load_diabetes_data(n_noise=20)\n",
        "\n",
        "\n",
        "\n",
        "#clf=LogisticRegression(penalty='none', solver=\"saga\", tol=0.01)\n",
        "#clf=LogisticRegression(penalty='l2',C=10, tol=0.01)\n",
        "#clf=RandomForestClassifier(max_depth=1, random_state=0)\n",
        "#clf=DecisionTreeClassifier(max_depth=None, random_state=0)\n",
        "\n",
        "\n",
        "clf.fit(X_train, y)\n",
        "\n",
        "# Get predicted labels from the classifier. Here, the 'predict_proba' function returns probabilities of the labels (e.g 75% of belonging to class 1)\n",
        "y_pred = clf.predict_proba(X_train)[:,1]\n",
        "y_ext_pred = clf.predict_proba(X_eval)[:,1]\n",
        "\n",
        "\n",
        "fig, ax=plt.subplots(nrows=1,ncols=2, figsize=(10,5), dpi= 100, facecolor='w', edgecolor='k')\n",
        "\n",
        "# PLot a ROC curve and show the area under the curve. \n",
        "plot_roc(y, y_pred, ax=ax[0], label=\"Training\")\n",
        "plot_roc(y_ext, y_ext_pred, ax=ax[1], label=\"External\")\n",
        "ax[0].legend(loc=0)\n",
        "ax[0].title.set_text('Internal')\n",
        "ax[1].legend(loc=0)\n",
        "ax[1].title.set_text('External')\n"
      ]
    },
    {
      "cell_type": "code",
      "execution_count": null,
      "metadata": {},
      "outputs": [],
      "source": []
    },
    {
      "cell_type": "code",
      "execution_count": 36,
      "metadata": {},
      "outputs": [
        {
          "data": {
            "image/png": "[encoded data removed]",
            "text/plain": [
              "<Figure size 2160x1440 with 1 Axes>"
            ]
          },
          "metadata": {
            "needs_background": "light"
          },
          "output_type": "display_data"
        }
      ],
      "source": [
        "from sklearn import tree\n",
        "\n",
        "#Fit a decision tree. \n",
        "clf=DecisionTreeClassifier(max_depth=3, random_state=0)\n",
        "clf.fit(X_train, y)\n",
        "\n",
        "#These parameters control the size of the resulting figure. If your model is too deep, you may need to make these values larger\n",
        "plt.figure(figsize=(30,20))  \n",
        "tree.plot_tree(clf, feature_names = X_train.columns, fontsize=12)\n",
        "\n",
        "#dot_data = tree.export_graphviz(clf, out_file=None) \n",
        "#graph = graphviz.Source(dot_data, )\n",
        "plt.show()\n"
      ]
    },
    {
      "cell_type": "markdown",
      "metadata": {},
      "source": [
        "# 2.3 Exploring different metrics\n",
        "We can also change the way that we evaluate model performance, again through the standardised interface provided by scikit-learn\n",
        "\n",
        "A list of possible options are provided can be see at  \n",
        "https://scikit-learn.org/0.16/modules/model_evaluation.html\n",
        "\n",
        "\n",
        "**Examine the following:**\n",
        "\n",
        "1. Do different metrics ever change the ranking of which methods are best? \n",
        "2. How do results compare on the internal and external predictions? Are they the same? Do they dramatically differ? \n",
        "3. What happens when you adjust the amount of noise variables in the dataset?"
      ]
    },
    {
      "cell_type": "code",
      "execution_count": 61,
      "metadata": {},
      "outputs": [
        {
          "data": {
            "text/html": [
              "<div>\n",
              "<style scoped>\n",
              "    .dataframe tbody tr th:only-of-type {\n",
              "        vertical-align: middle;\n",
              "    }\n",
              "\n",
              "    .dataframe tbody tr th {\n",
              "        vertical-align: top;\n",
              "    }\n",
              "\n",
              "    .dataframe thead th {\n",
              "        text-align: right;\n",
              "    }\n",
              "</style>\n",
              "<table border=\"1\" class=\"dataframe\">\n",
              "  <thead>\n",
              "    <tr style=\"text-align: right;\">\n",
              "      <th></th>\n",
              "      <th>Ridge</th>\n",
              "      <th>LogisticReg</th>\n",
              "      <th>Lasso</th>\n",
              "      <th>RandomForest</th>\n",
              "      <th>DecisionTree</th>\n",
              "    </tr>\n",
              "  </thead>\n",
              "  <tbody>\n",
              "    <tr>\n",
              "      <th>Accuracy_Internal</th>\n",
              "      <td>0.85</td>\n",
              "      <td>0.80</td>\n",
              "      <td>0.80</td>\n",
              "      <td>1.00</td>\n",
              "      <td>0.82</td>\n",
              "    </tr>\n",
              "    <tr>\n",
              "      <th>Accuracy_External</th>\n",
              "      <td>0.71</td>\n",
              "      <td>0.67</td>\n",
              "      <td>0.67</td>\n",
              "      <td>0.82</td>\n",
              "      <td>0.73</td>\n",
              "    </tr>\n",
              "    <tr>\n",
              "      <th>BalAccuracy_Internal</th>\n",
              "      <td>0.81</td>\n",
              "      <td>0.75</td>\n",
              "      <td>0.75</td>\n",
              "      <td>1.00</td>\n",
              "      <td>0.82</td>\n",
              "    </tr>\n",
              "    <tr>\n",
              "      <th>BalAccuracy_External</th>\n",
              "      <td>0.63</td>\n",
              "      <td>0.56</td>\n",
              "      <td>0.56</td>\n",
              "      <td>0.70</td>\n",
              "      <td>0.70</td>\n",
              "    </tr>\n",
              "    <tr>\n",
              "      <th>AUC_Internal</th>\n",
              "      <td>0.81</td>\n",
              "      <td>0.75</td>\n",
              "      <td>0.75</td>\n",
              "      <td>1.00</td>\n",
              "      <td>0.82</td>\n",
              "    </tr>\n",
              "    <tr>\n",
              "      <th>AUC_External</th>\n",
              "      <td>0.63</td>\n",
              "      <td>0.56</td>\n",
              "      <td>0.56</td>\n",
              "      <td>0.70</td>\n",
              "      <td>0.70</td>\n",
              "    </tr>\n",
              "    <tr>\n",
              "      <th>LogLoss_Internal</th>\n",
              "      <td>5.31</td>\n",
              "      <td>6.80</td>\n",
              "      <td>6.80</td>\n",
              "      <td>0.00</td>\n",
              "      <td>6.25</td>\n",
              "    </tr>\n",
              "    <tr>\n",
              "      <th>LogLoss_External</th>\n",
              "      <td>10.12</td>\n",
              "      <td>11.47</td>\n",
              "      <td>11.47</td>\n",
              "      <td>6.32</td>\n",
              "      <td>9.26</td>\n",
              "    </tr>\n",
              "    <tr>\n",
              "      <th>PPV_Internal</th>\n",
              "      <td>0.85</td>\n",
              "      <td>0.81</td>\n",
              "      <td>0.81</td>\n",
              "      <td>1.00</td>\n",
              "      <td>0.89</td>\n",
              "    </tr>\n",
              "    <tr>\n",
              "      <th>PPV_External</th>\n",
              "      <td>0.81</td>\n",
              "      <td>0.78</td>\n",
              "      <td>0.78</td>\n",
              "      <td>0.83</td>\n",
              "      <td>0.86</td>\n",
              "    </tr>\n",
              "    <tr>\n",
              "      <th>NPV_Internal</th>\n",
              "      <td>0.85</td>\n",
              "      <td>0.81</td>\n",
              "      <td>0.81</td>\n",
              "      <td>1.00</td>\n",
              "      <td>0.89</td>\n",
              "    </tr>\n",
              "    <tr>\n",
              "      <th>NPV_External</th>\n",
              "      <td>0.81</td>\n",
              "      <td>0.78</td>\n",
              "      <td>0.78</td>\n",
              "      <td>0.83</td>\n",
              "      <td>0.86</td>\n",
              "    </tr>\n",
              "  </tbody>\n",
              "</table>\n",
              "</div>"
            ],
            "text/plain": [
              "                      Ridge  LogisticReg  Lasso  RandomForest  DecisionTree\n",
              "Accuracy_Internal      0.85         0.80   0.80          1.00          0.82\n",
              "Accuracy_External      0.71         0.67   0.67          0.82          0.73\n",
              "BalAccuracy_Internal   0.81         0.75   0.75          1.00          0.82\n",
              "BalAccuracy_External   0.63         0.56   0.56          0.70          0.70\n",
              "AUC_Internal           0.81         0.75   0.75          1.00          0.82\n",
              "AUC_External           0.63         0.56   0.56          0.70          0.70\n",
              "LogLoss_Internal       5.31         6.80   6.80          0.00          6.25\n",
              "LogLoss_External      10.12        11.47  11.47          6.32          9.26\n",
              "PPV_Internal           0.85         0.81   0.81          1.00          0.89\n",
              "PPV_External           0.81         0.78   0.78          0.83          0.86\n",
              "NPV_Internal           0.85         0.81   0.81          1.00          0.89\n",
              "NPV_External           0.81         0.78   0.78          0.83          0.86"
            ]
          },
          "execution_count": 61,
          "metadata": {},
          "output_type": "execute_result"
        }
      ],
      "source": [
        "# If you feel like generating a new dataset, uncomment this line. \n",
        "X, y, X_ext, y_ext = load_diabetes_data(n_noise=100)\n",
        "\n",
        "#Create a dictionary of multiple classifiers\n",
        "clfs = {\n",
        "    'Ridge':LogisticRegression(penalty='l2',C=10, tol=0.01), \n",
        "    'LogisticReg':LogisticRegression(penalty='none', solver=\"saga\", tol=0.01), \n",
        "    'Lasso':LogisticRegression(penalty='l1', C=100, solver=\"saga\", tol=0.01), \n",
        "    'RandomForest':RandomForestClassifier(max_depth=20, random_state=0), \n",
        "    'DecisionTree':DecisionTreeClassifier(max_depth=3, random_state=0)\n",
        "}\n",
        "metrics_dict = {\n",
        "    'Accuracy':metrics.accuracy_score,\n",
        "    'BalAccuracy':metrics.balanced_accuracy_score,\n",
        "    'AUC':metrics.roc_auc_score,\n",
        "    'LogLoss':metrics.log_loss,\n",
        "    'PPV':metrics.precision_score,\n",
        "    'NPV':metrics.precision_score,\n",
        "}\n",
        "\n",
        "#Helper function to return classifier name\n",
        "def get_clf_name(estimator):\n",
        "    return(estimator.__class__.__name__)\n",
        "\n",
        "scores = {}\n",
        "for clf_name,clf in clfs.items():\n",
        "    scores[clf_name] = {}\n",
        "    clf.fit(X, y)\n",
        "    for metric_name, metric in metrics_dict.items():\n",
        "        scores[clf_name][metric_name + '_Internal']=metric(y, clf.predict(X))\n",
        "        scores[clf_name][metric_name + '_External']=metric(y_ext, clf.predict(X_ext))\n",
        "\n",
        "pd.options.display.float_format = '{:,.2f}'.format\n",
        "pd.DataFrame(scores)\n",
        "\n",
        "\n",
        "#clfs_res=[]\n",
        "#print(\"{} total classifiers: \".format(len(clfs.items())), end=\"\")\n",
        "#for i, (clf_name, clf) in enumerate(clfs.items()):"
      ]
    },
    {
      "cell_type": "markdown",
      "metadata": {
        "id": "5tdicVuS9SlZ",
        "scrolled": true
      },
      "source": [
        "<hr style=\"border:2px solid gray\"> </hr>\n",
        "\n",
        "# Session 3: Train/test and cross-validation frameworks\n",
        "\n",
        "In the previous example, we built model on entire dataset and evaluated its performance on the same data. Here, we will explore some alternative frameworks for doing this and will evaluate how model performance changes. We'll also start to explore different models and how key parameters can be altered to change prediction performance. "
      ]
    },
    {
      "cell_type": "markdown",
      "metadata": {
        "id": "4oWEBEBk9Sla"
      },
      "source": [
        "## 3.1 Training and Test split\n",
        "\n",
        "The following code examines training and testing a model on a single dataset and compares its performance to an external dataset in 3 scenarios:\n",
        " - Training on the entire dataset. Test on the same entire dataset. \n",
        " - Training on a proportion (default 80%). Test on the same proportion. \n",
        " - Training on a proportion (default 80%). Test on the remaining proportion. \n",
        " \n",
        "**Questions:**\n",
        "1. Run this cell a few times. Which accuracies change? Why?\n",
        "2. Which evaluation scenario is closest to the external data performance?\n",
        "2. What is the best performance you can get by default? What is the worst performance you observe?\n",
        "3. What happens to test performance as you add more noise variables?\n",
        "4. Try changing parameters ('C' for the l2 penalized logistic regression, or max_depth for Random Forest)"
      ]
    },
    {
      "cell_type": "code",
      "execution_count": 13,
      "metadata": {
        "colab": {
          "base_uri": "https://localhost:8080/",
          "height": 460
        },
        "id": "CpZ7Q5jx9Sla",
        "outputId": "c75ec7fd-1b4b-477a-f63a-374f21de105e"
      },
      "outputs": [
        {
          "data": {
            "image/png": "[encoded data removed]",
            "text/plain": [
              "<Figure size 1000x500 with 2 Axes>"
            ]
          },
          "metadata": {},
          "output_type": "display_data"
        }
      ],
      "source": [
        "# If you feel like generating a new dataset, uncomment this line. \n",
        "#X, y, X_ext, y_ext = load_diabetes_data(n_noise=40)\n",
        "\n",
        "#Select a model to construct\n",
        "#clf=LogisticRegression(penalty='none', solver=\"saga\", tol=0.01)\n",
        "#clf=LogisticRegression(penalty='l2',C=10, tol=0.01)\n",
        "clf=RandomForestClassifier(max_depth=10, random_state=0)\n",
        "\n",
        "# Propotion of data\n",
        "test_prop = 0.2\n",
        "\n",
        "# Split data into train and test sets\n",
        "X_train, X_test, y_train, y_test = train_test_split(X, y, test_size=test_prop)\n",
        "\n",
        "scenarios = {\n",
        "                \"Tr:all_Te:all\":    {\"train\":{'X':X,'y':y}, \"test\":{'X':X,'y':y}}, \n",
        "                \"Tr:train_Te:train\":  {\"train\":{'X':X_train,'y':y_train}, \"test\":{'X':X_train,'y':y_train}}, \n",
        "                \"Tr:train_Te:test\":   {\"train\":{'X':X_train,'y':y_train}, \"test\":{'X':X_test,'y':y_test}}\n",
        "            }\n",
        "\n",
        "fig, ax=plt.subplots(nrows=1,ncols=2, figsize=(10,5), dpi= 100, facecolor='w', edgecolor='k')\n",
        "\n",
        "\n",
        "# Fit the model on the internal data and plot the results\n",
        "for name, sc in scenarios.items():\n",
        "    clf.fit(sc['train']['X'], sc['train']['y'])\n",
        "    \n",
        "    yp=clf.predict_proba(sc['test']['X'])[:,1]    \n",
        "    plot_roc(sc['test']['y'], yp, name, ax=ax[0])\n",
        "   \n",
        "# Fit the model on the external data and plot the results\n",
        "clf.fit(X, y)\n",
        "yp_ext=clf.predict_proba(X_ext)[:,1]\n",
        "plot_roc(y_ext, yp_ext, \"External\", ax=ax[1])\n",
        "    \n",
        "ax[0].legend(loc=0)\n",
        "ax[0].title.set_text('Internal')\n",
        "ax[1].legend(loc=0)\n",
        "ax[1].title.set_text('External')"
      ]
    },
    {
      "cell_type": "markdown",
      "metadata": {
        "id": "VJu0PpDB9Slb"
      },
      "source": [
        "## 3.2 K-fold Cross-validation\n",
        "Variability in the performance of different splits in the previous example motivates the use of K-fold cross validation. Here, we explore a few models and start to compare model performance.  \n",
        "\n",
        "***Warning***: Be careful setting the values below. Setting the number of times to evaluate the classifiers too high and it will take too long to run for this workshop. \n",
        "\n",
        "**Questions:**\n",
        "1. Run this cell a few times. What is the range of the scores that are observed?\n",
        "2. Which model is the best? How do you determine this?\n",
        "3. Play around with hyperparameters, what is the impact on model performance? Which models are sensitive to these choices?\n"
      ]
    },
    {
      "cell_type": "code",
      "execution_count": 15,
      "metadata": {
        "colab": {
          "base_uri": "https://localhost:8080/",
          "height": 474
        },
        "id": "C11BomI69Slc",
        "outputId": "95bd92cf-a0c1-4dea-a9f3-e2823c6afb78"
      },
      "outputs": [
        {
          "name": "stdout",
          "output_type": "stream",
          "text": [
            "4 total classifiers: 0123Done"
          ]
        },
        {
          "data": {
            "text/plain": [
              "<AxesSubplot:xlabel='clf', ylabel='auc'>"
            ]
          },
          "execution_count": 15,
          "metadata": {},
          "output_type": "execute_result"
        },
        {
          "data": {
            "image/png": "[encoded data removed]",
            "text/plain": [
              "<Figure size 1000x500 with 1 Axes>"
            ]
          },
          "metadata": {},
          "output_type": "display_data"
        }
      ],
      "source": [
        "# If you feel like generating a new dataset, uncomment this line. \n",
        "X, y, X_ext, y_ext = load_diabetes_data(n_noise=100)\n",
        "\n",
        "clfs = {\n",
        "    'ridge':LogisticRegression(penalty='l2',C=10, tol=0.01), \n",
        "    'logreg':LogisticRegression(penalty='none', solver=\"saga\", tol=0.01), \n",
        "    'lasso':LogisticRegression(penalty='l1', C=100, solver=\"saga\", tol=0.01), \n",
        "    'RandomForest':RandomForestClassifier(max_depth=20, random_state=0), \n",
        "}\n",
        "\n",
        "def get_clf_name(estimator):\n",
        "    return(estimator.__class__.__name__)\n",
        "\n",
        "# This constructs n_splits * n_repeats classifiers. If these values are large, \n",
        "# or if classifier is slow it may take a long time    \n",
        "n_folds=5\n",
        "n_reps=3\n",
        "cv = RepeatedKFold(n_splits=n_folds,n_repeats=n_reps)\n",
        "\n",
        "clfs_res=[]\n",
        "print(\"{} total classifiers: \".format(len(clfs.items())), end=\"\")\n",
        "for i, (clf_name, clf) in enumerate(clfs.items()):\n",
        "    print(i, end=\"\")\n",
        "    scores = cross_val_score(clf, X, y, cv=cv, scoring=\"roc_auc\")\n",
        "    \n",
        "    #Turn the results into a data frame and \n",
        "    clf_res=pd.DataFrame(data = scores, columns = ['auc']).assign(clf=clf_name)\n",
        "    clfs_res.append(clf_res)\n",
        "print(\"Done\", end=\"\")\n",
        "\n",
        "clfs_res_merge = pd.concat(clfs_res)\n",
        "\n",
        "fig, ax=plt.subplots(nrows=1,ncols=1, figsize=(10,5), dpi= 100, facecolor='w', edgecolor='k')\n",
        "sns.boxplot(data=clfs_res_merge, y='auc', x=\"clf\",ax=ax )"
      ]
    },
    {
      "cell_type": "markdown",
      "metadata": {
        "id": "j7UftUfo9Sld"
      },
      "source": [
        "# Session 4. Overfitting via feature selection and model parameters\n",
        "\n",
        "\n",
        "## 4.1 Feature discrimination over entire dataset\n",
        "One naive way to remove noise is to look at the features one-by-one,  look at their ability to discriminate the dataset and only take the most useful into our model. This is flawed but is common in the literature. \n",
        "\n",
        "Lets take a look at the discriminatory ability of our features, here using an ANOVA, a common statistical test. We report the f-statistic (a measure of effect size) and p-value for each features. \n",
        "\n",
        "**Question:** \n",
        "1. How do measured and noise features compare?\n",
        "2. What if we generate lots (n=10,000) noise features? How often can we distinguish noise and real signal?"
      ]
    },
    {
      "cell_type": "code",
      "execution_count": 16,
      "metadata": {
        "colab": {
          "base_uri": "https://localhost:8080/",
          "height": 363
        },
        "id": "WpTcAPfM9Sld",
        "outputId": "e3edf5cb-f4f6-4f31-ae63-720f00dfc129"
      },
      "outputs": [
        {
          "data": {
            "text/html": [
              "<div>\n",
              "<style scoped>\n",
              "    .dataframe tbody tr th:only-of-type {\n",
              "        vertical-align: middle;\n",
              "    }\n",
              "\n",
              "    .dataframe tbody tr th {\n",
              "        vertical-align: top;\n",
              "    }\n",
              "\n",
              "    .dataframe thead th {\n",
              "        text-align: right;\n",
              "    }\n",
              "</style>\n",
              "<table border=\"1\" class=\"dataframe\">\n",
              "  <thead>\n",
              "    <tr style=\"text-align: right;\">\n",
              "      <th></th>\n",
              "      <th>feature</th>\n",
              "      <th>f-stat</th>\n",
              "      <th>p.val</th>\n",
              "    </tr>\n",
              "  </thead>\n",
              "  <tbody>\n",
              "    <tr>\n",
              "      <th>8</th>\n",
              "      <td>ltg</td>\n",
              "      <td>115.586523</td>\n",
              "      <td>4.279964e-24</td>\n",
              "    </tr>\n",
              "    <tr>\n",
              "      <th>2</th>\n",
              "      <td>bmi</td>\n",
              "      <td>90.156027</td>\n",
              "      <td>1.415061e-19</td>\n",
              "    </tr>\n",
              "    <tr>\n",
              "      <th>7</th>\n",
              "      <td>tch</td>\n",
              "      <td>64.081024</td>\n",
              "      <td>1.073645e-14</td>\n",
              "    </tr>\n",
              "    <tr>\n",
              "      <th>6</th>\n",
              "      <td>hdl</td>\n",
              "      <td>62.105617</td>\n",
              "      <td>2.580875e-14</td>\n",
              "    </tr>\n",
              "    <tr>\n",
              "      <th>3</th>\n",
              "      <td>bp</td>\n",
              "      <td>55.190683</td>\n",
              "      <td>5.735314e-13</td>\n",
              "    </tr>\n",
              "    <tr>\n",
              "      <th>9</th>\n",
              "      <td>glu</td>\n",
              "      <td>36.446028</td>\n",
              "      <td>3.338673e-09</td>\n",
              "    </tr>\n",
              "    <tr>\n",
              "      <th>4</th>\n",
              "      <td>tc</td>\n",
              "      <td>15.441600</td>\n",
              "      <td>9.879301e-05</td>\n",
              "    </tr>\n",
              "    <tr>\n",
              "      <th>5</th>\n",
              "      <td>ldl</td>\n",
              "      <td>13.971796</td>\n",
              "      <td>2.100505e-04</td>\n",
              "    </tr>\n",
              "    <tr>\n",
              "      <th>0</th>\n",
              "      <td>age</td>\n",
              "      <td>10.535308</td>\n",
              "      <td>1.260592e-03</td>\n",
              "    </tr>\n",
              "    <tr>\n",
              "      <th>15</th>\n",
              "      <td>noise_5</td>\n",
              "      <td>1.174173</td>\n",
              "      <td>2.791388e-01</td>\n",
              "    </tr>\n",
              "  </tbody>\n",
              "</table>\n",
              "</div>"
            ],
            "text/plain": [
              "    feature      f-stat         p.val\n",
              "8       ltg  115.586523  4.279964e-24\n",
              "2       bmi   90.156027  1.415061e-19\n",
              "7       tch   64.081024  1.073645e-14\n",
              "6       hdl   62.105617  2.580875e-14\n",
              "3        bp   55.190683  5.735314e-13\n",
              "9       glu   36.446028  3.338673e-09\n",
              "4        tc   15.441600  9.879301e-05\n",
              "5       ldl   13.971796  2.100505e-04\n",
              "0       age   10.535308  1.260592e-03\n",
              "15  noise_5    1.174173  2.791388e-01"
            ]
          },
          "execution_count": 16,
          "metadata": {},
          "output_type": "execute_result"
        }
      ],
      "source": [
        "# If you feel like generating a new dataset, uncomment this line. \n",
        "X, y, X_ext, y_ext = load_diabetes_data(n_noise=10)\n",
        "\n",
        "# Look at which features are important over the entire dataset\n",
        "f, p = feature_selection.f_classif(X, y)\n",
        "feature_scores = pd.DataFrame.from_dict({\"feature\":X.columns, \"f-stat\":f, \"p.val\":p})\n",
        "feature_scores.sort_values(by=\"p.val\", key=np.abs, ascending=True).iloc[0:10, :]"
      ]
    },
    {
      "cell_type": "markdown",
      "metadata": {
        "id": "ldM_WpdT9Sle"
      },
      "source": [
        "## 4.2 Demonstrating potential overfitting when selecting features before CV\n",
        "Given we've ranked the features in terms of their discrinatory ability, we could now select some top amount (based on p-value, f-statistic or a feeling for how many features we need). \n",
        "\n",
        "But such an approach uses all of the information, and hence means there is no unsed data left for an untouched test set. \n",
        "\n",
        "To explore this impact, the code below plots classifier performance starting with a single most discrinimatory feature and increasing to the top 32 features. We plot the model performance in training and testing. \n",
        "\n",
        "Additionally, we plot the performance of constructing a model on all samples and evaluating the external dataset to show where the ideal would be. \n",
        "\n",
        "**Questions**\n",
        "1. What are the trends in the performance of the model on the training data as we increase features?\n",
        "2. What are the trends in the performance of the model on the test data as we increase features?\n",
        "3. Where is the ideal number of features for the external data?\n",
        "4. How often does number of features to achieve the highest \"test\" performance correspond to the hihgest external performance?\n",
        "5. What happens if you run this cell a few times? How do results differ? Why do they change?\n"
      ]
    },
    {
      "cell_type": "code",
      "execution_count": 18,
      "metadata": {
        "colab": {
          "base_uri": "https://localhost:8080/",
          "height": 297
        },
        "id": "1bzTAixB9Sle",
        "outputId": "b1d0f49e-05c8-414f-8e53-7db7720420ab"
      },
      "outputs": [
        {
          "data": {
            "text/plain": [
              "<AxesSubplot:xlabel='n_feat', ylabel='auc'>"
            ]
          },
          "execution_count": 18,
          "metadata": {},
          "output_type": "execute_result"
        },
        {
          "data": {
            "image/png": "[encoded data removed]",
            "text/plain": [
              "<Figure size 432x288 with 1 Axes>"
            ]
          },
          "metadata": {},
          "output_type": "display_data"
        }
      ],
      "source": [
        "clf = LogisticRegression(penalty='none', tol=0.01, solver='saga')\n",
        "#clf = RandomForestClassifier(max_depth=20, random_state=0)\n",
        "\n",
        "X_train, X_test, y_train, y_test = train_test_split(X, y, test_size=test_prop)\n",
        "\n",
        "#Look at different numbers of features in the model. Remove any that are bigger than our current dataframe\n",
        "n_feats = [1,2,3, 4,5, 6, 8,12,16,20, 24, 28, 32, 64, 128, 1000]\n",
        "n_feats = filter(lambda x: x<=len(X_train.columns), n_feats)\n",
        "aucs=[]\n",
        "for i in n_feats:\n",
        "\n",
        "    #This is a clever trick, where we make a pikeline that first searches \n",
        "    # for the 'k' best features and then applies a classifier  to the filtered data. \n",
        "    clf_selected = make_pipeline(SelectKBest(f_classif, k=i),clf)\n",
        "    \n",
        "    #Use this to conduct feature selection on the entire dataset\n",
        "    clf_selected.fit(X, y)\n",
        "    #Use this to conduct feature selection only on the training data\n",
        "    #clf_selected.fit(X_train, y_train)\n",
        "      \n",
        "    aucs.append(pd.DataFrame.from_dict({\n",
        "        \"n_feat\": [i,i],\n",
        "        \"model\" : [\"Train\", \"Test\"],\n",
        "        \"auc\" : [clf_selected.score(X_train, y_train), \n",
        "                   clf_selected.score(X_test, y_test)]\n",
        "    }))\n",
        "    \n",
        "    clf_selected.fit(X, y)\n",
        "    aucs.append(pd.DataFrame.from_dict({\n",
        "        \"n_feat\": [i],\n",
        "        \"model\" : [\"External\"],\n",
        "        \"auc\" : [clf_selected.score(X_ext, y_ext)]\n",
        "    }))\n",
        "    \n",
        "    \n",
        "    \n",
        "aucs_df=pd.concat(aucs, ignore_index=True)\n",
        "sns.set_style(\"whitegrid\")\n",
        "\n",
        "sns.lineplot(data=aucs_df, x=\"n_feat\", y=\"auc\", hue=\"model\")\n",
        "f.set(xscale='log')"
      ]
    },
    {
      "cell_type": "markdown",
      "metadata": {
        "id": "9LgLCyUG9Slf"
      },
      "source": [
        "## 4.3 Nested cross-validation for feature selection and hyperparameter tuning\n",
        "\n",
        "Rather than selecting the number of features to be included in a model (based on a random guess, or worse peeking at test results), we can instead conduct feature selection as part of cross validation. \n",
        "\n",
        "The code below runs two cross-validation loops (inner and outer), essentially running one loop on the training data (repeatededly breaking it into training and validation datasets) to understand how the number of features impacts performance. We then select the best number of features and evaluate the held-out testset. This is then repeated for the number of folds in the outer loop. \n",
        "\n",
        "While robust, the approach can be computationally expensive as we are building many models. \n",
        "\n",
        "**Warning** This code can be extremely slow\n",
        "\n",
        "**Questions:**\n",
        "1. Try generating a dataset with no noisy features and one with many? How much does performance vary?\n",
        "2. How does performance vary if we change from a penalized regression to a random forest?\n"
      ]
    },
    {
      "cell_type": "code",
      "execution_count": 66,
      "metadata": {
        "colab": {
          "base_uri": "https://localhost:8080/",
          "height": 327
        },
        "id": "EGKR08T_9Slf",
        "outputId": "2c0722f5-62ea-4e2c-f1f6-808cc8c15f16"
      },
      "outputs": [
        {
          "name": "stdout",
          "output_type": "stream",
          "text": [
            "0"
          ]
        },
        {
          "ename": "ValueError",
          "evalue": "Invalid parameter RandomForestClassifier for estimator Pipeline(steps=[('selectkbest', SelectKBest()),\n                ('randomforestclassifier',\n                 RandomForestClassifier(max_depth=20, random_state=0))]). Check the list of available parameters with `estimator.get_params().keys()`.",
          "output_type": "error",
          "traceback": [
            "\u001b[0;31m---------------------------------------------------------------------------\u001b[0m",
            "\u001b[0;31mValueError\u001b[0m                                Traceback (most recent call last)",
            "\u001b[0;32m/var/folders/5r/86wqlmq91p9fc7ljpbmz08vw0000gp/T/ipykernel_59161/3989236177.py\u001b[0m in \u001b[0;36m<module>\u001b[0;34m\u001b[0m\n\u001b[1;32m     25\u001b[0m     \u001b[0;31m# Non_nested parameter search and scoring\u001b[0m\u001b[0;34m\u001b[0m\u001b[0;34m\u001b[0m\u001b[0m\n\u001b[1;32m     26\u001b[0m     \u001b[0mmodel\u001b[0m \u001b[0;34m=\u001b[0m \u001b[0mGridSearchCV\u001b[0m\u001b[0;34m(\u001b[0m\u001b[0mestimator\u001b[0m\u001b[0;34m=\u001b[0m\u001b[0mmodel_to_tune\u001b[0m\u001b[0;34m,\u001b[0m \u001b[0mparam_grid\u001b[0m\u001b[0;34m=\u001b[0m\u001b[0mparam_grid\u001b[0m\u001b[0;34m,\u001b[0m \u001b[0mcv\u001b[0m\u001b[0;34m=\u001b[0m\u001b[0minner_cv\u001b[0m\u001b[0;34m,\u001b[0m \u001b[0mscoring\u001b[0m\u001b[0;34m=\u001b[0m\u001b[0;34m\"roc_auc\"\u001b[0m\u001b[0;34m)\u001b[0m\u001b[0;34m\u001b[0m\u001b[0;34m\u001b[0m\u001b[0m\n\u001b[0;32m---> 27\u001b[0;31m     \u001b[0mmodel\u001b[0m\u001b[0;34m.\u001b[0m\u001b[0mfit\u001b[0m\u001b[0;34m(\u001b[0m\u001b[0mX\u001b[0m\u001b[0;34m,\u001b[0m \u001b[0my\u001b[0m\u001b[0;34m)\u001b[0m\u001b[0;34m\u001b[0m\u001b[0;34m\u001b[0m\u001b[0m\n\u001b[0m\u001b[1;32m     28\u001b[0m     \u001b[0mtest_score_not_nested\u001b[0m\u001b[0;34m.\u001b[0m\u001b[0mappend\u001b[0m\u001b[0;34m(\u001b[0m\u001b[0mmodel\u001b[0m\u001b[0;34m.\u001b[0m\u001b[0mbest_score_\u001b[0m\u001b[0;34m)\u001b[0m\u001b[0;34m\u001b[0m\u001b[0;34m\u001b[0m\u001b[0m\n\u001b[1;32m     29\u001b[0m \u001b[0;34m\u001b[0m\u001b[0m\n",
            "\u001b[0;32m~/Research/Slides/BioInfoSummer2021_ML/env/lib/python3.9/site-packages/sklearn/model_selection/_search.py\u001b[0m in \u001b[0;36mfit\u001b[0;34m(self, X, y, groups, **fit_params)\u001b[0m\n\u001b[1;32m    889\u001b[0m                 \u001b[0;32mreturn\u001b[0m \u001b[0mresults\u001b[0m\u001b[0;34m\u001b[0m\u001b[0;34m\u001b[0m\u001b[0m\n\u001b[1;32m    890\u001b[0m \u001b[0;34m\u001b[0m\u001b[0m\n\u001b[0;32m--> 891\u001b[0;31m             \u001b[0mself\u001b[0m\u001b[0;34m.\u001b[0m\u001b[0m_run_search\u001b[0m\u001b[0;34m(\u001b[0m\u001b[0mevaluate_candidates\u001b[0m\u001b[0;34m)\u001b[0m\u001b[0;34m\u001b[0m\u001b[0;34m\u001b[0m\u001b[0m\n\u001b[0m\u001b[1;32m    892\u001b[0m \u001b[0;34m\u001b[0m\u001b[0m\n\u001b[1;32m    893\u001b[0m             \u001b[0;31m# multimetric is determined here because in the case of a callable\u001b[0m\u001b[0;34m\u001b[0m\u001b[0;34m\u001b[0m\u001b[0m\n",
            "\u001b[0;32m~/Research/Slides/BioInfoSummer2021_ML/env/lib/python3.9/site-packages/sklearn/model_selection/_search.py\u001b[0m in \u001b[0;36m_run_search\u001b[0;34m(self, evaluate_candidates)\u001b[0m\n\u001b[1;32m   1390\u001b[0m     \u001b[0;32mdef\u001b[0m \u001b[0m_run_search\u001b[0m\u001b[0;34m(\u001b[0m\u001b[0mself\u001b[0m\u001b[0;34m,\u001b[0m \u001b[0mevaluate_candidates\u001b[0m\u001b[0;34m)\u001b[0m\u001b[0;34m:\u001b[0m\u001b[0;34m\u001b[0m\u001b[0;34m\u001b[0m\u001b[0m\n\u001b[1;32m   1391\u001b[0m         \u001b[0;34m\"\"\"Search all candidates in param_grid\"\"\"\u001b[0m\u001b[0;34m\u001b[0m\u001b[0;34m\u001b[0m\u001b[0m\n\u001b[0;32m-> 1392\u001b[0;31m         \u001b[0mevaluate_candidates\u001b[0m\u001b[0;34m(\u001b[0m\u001b[0mParameterGrid\u001b[0m\u001b[0;34m(\u001b[0m\u001b[0mself\u001b[0m\u001b[0;34m.\u001b[0m\u001b[0mparam_grid\u001b[0m\u001b[0;34m)\u001b[0m\u001b[0;34m)\u001b[0m\u001b[0;34m\u001b[0m\u001b[0;34m\u001b[0m\u001b[0m\n\u001b[0m\u001b[1;32m   1393\u001b[0m \u001b[0;34m\u001b[0m\u001b[0m\n\u001b[1;32m   1394\u001b[0m \u001b[0;34m\u001b[0m\u001b[0m\n",
            "\u001b[0;32m~/Research/Slides/BioInfoSummer2021_ML/env/lib/python3.9/site-packages/sklearn/model_selection/_search.py\u001b[0m in \u001b[0;36mevaluate_candidates\u001b[0;34m(candidate_params, cv, more_results)\u001b[0m\n\u001b[1;32m    836\u001b[0m                     )\n\u001b[1;32m    837\u001b[0m \u001b[0;34m\u001b[0m\u001b[0m\n\u001b[0;32m--> 838\u001b[0;31m                 out = parallel(\n\u001b[0m\u001b[1;32m    839\u001b[0m                     delayed(_fit_and_score)(\n\u001b[1;32m    840\u001b[0m                         \u001b[0mclone\u001b[0m\u001b[0;34m(\u001b[0m\u001b[0mbase_estimator\u001b[0m\u001b[0;34m)\u001b[0m\u001b[0;34m,\u001b[0m\u001b[0;34m\u001b[0m\u001b[0;34m\u001b[0m\u001b[0m\n",
            "\u001b[0;32m~/Research/Slides/BioInfoSummer2021_ML/env/lib/python3.9/site-packages/joblib/parallel.py\u001b[0m in \u001b[0;36m__call__\u001b[0;34m(self, iterable)\u001b[0m\n\u001b[1;32m   1041\u001b[0m             \u001b[0;31m# remaining jobs.\u001b[0m\u001b[0;34m\u001b[0m\u001b[0;34m\u001b[0m\u001b[0m\n\u001b[1;32m   1042\u001b[0m             \u001b[0mself\u001b[0m\u001b[0;34m.\u001b[0m\u001b[0m_iterating\u001b[0m \u001b[0;34m=\u001b[0m \u001b[0;32mFalse\u001b[0m\u001b[0;34m\u001b[0m\u001b[0;34m\u001b[0m\u001b[0m\n\u001b[0;32m-> 1043\u001b[0;31m             \u001b[0;32mif\u001b[0m \u001b[0mself\u001b[0m\u001b[0;34m.\u001b[0m\u001b[0mdispatch_one_batch\u001b[0m\u001b[0;34m(\u001b[0m\u001b[0miterator\u001b[0m\u001b[0;34m)\u001b[0m\u001b[0;34m:\u001b[0m\u001b[0;34m\u001b[0m\u001b[0;34m\u001b[0m\u001b[0m\n\u001b[0m\u001b[1;32m   1044\u001b[0m                 \u001b[0mself\u001b[0m\u001b[0;34m.\u001b[0m\u001b[0m_iterating\u001b[0m \u001b[0;34m=\u001b[0m \u001b[0mself\u001b[0m\u001b[0;34m.\u001b[0m\u001b[0m_original_iterator\u001b[0m \u001b[0;32mis\u001b[0m \u001b[0;32mnot\u001b[0m \u001b[0;32mNone\u001b[0m\u001b[0;34m\u001b[0m\u001b[0;34m\u001b[0m\u001b[0m\n\u001b[1;32m   1045\u001b[0m \u001b[0;34m\u001b[0m\u001b[0m\n",
            "\u001b[0;32m~/Research/Slides/BioInfoSummer2021_ML/env/lib/python3.9/site-packages/joblib/parallel.py\u001b[0m in \u001b[0;36mdispatch_one_batch\u001b[0;34m(self, iterator)\u001b[0m\n\u001b[1;32m    859\u001b[0m                 \u001b[0;32mreturn\u001b[0m \u001b[0;32mFalse\u001b[0m\u001b[0;34m\u001b[0m\u001b[0;34m\u001b[0m\u001b[0m\n\u001b[1;32m    860\u001b[0m             \u001b[0;32melse\u001b[0m\u001b[0;34m:\u001b[0m\u001b[0;34m\u001b[0m\u001b[0;34m\u001b[0m\u001b[0m\n\u001b[0;32m--> 861\u001b[0;31m                 \u001b[0mself\u001b[0m\u001b[0;34m.\u001b[0m\u001b[0m_dispatch\u001b[0m\u001b[0;34m(\u001b[0m\u001b[0mtasks\u001b[0m\u001b[0;34m)\u001b[0m\u001b[0;34m\u001b[0m\u001b[0;34m\u001b[0m\u001b[0m\n\u001b[0m\u001b[1;32m    862\u001b[0m                 \u001b[0;32mreturn\u001b[0m \u001b[0;32mTrue\u001b[0m\u001b[0;34m\u001b[0m\u001b[0;34m\u001b[0m\u001b[0m\n\u001b[1;32m    863\u001b[0m \u001b[0;34m\u001b[0m\u001b[0m\n",
            "\u001b[0;32m~/Research/Slides/BioInfoSummer2021_ML/env/lib/python3.9/site-packages/joblib/parallel.py\u001b[0m in \u001b[0;36m_dispatch\u001b[0;34m(self, batch)\u001b[0m\n\u001b[1;32m    777\u001b[0m         \u001b[0;32mwith\u001b[0m \u001b[0mself\u001b[0m\u001b[0;34m.\u001b[0m\u001b[0m_lock\u001b[0m\u001b[0;34m:\u001b[0m\u001b[0;34m\u001b[0m\u001b[0;34m\u001b[0m\u001b[0m\n\u001b[1;32m    778\u001b[0m             \u001b[0mjob_idx\u001b[0m \u001b[0;34m=\u001b[0m \u001b[0mlen\u001b[0m\u001b[0;34m(\u001b[0m\u001b[0mself\u001b[0m\u001b[0;34m.\u001b[0m\u001b[0m_jobs\u001b[0m\u001b[0;34m)\u001b[0m\u001b[0;34m\u001b[0m\u001b[0;34m\u001b[0m\u001b[0m\n\u001b[0;32m--> 779\u001b[0;31m             \u001b[0mjob\u001b[0m \u001b[0;34m=\u001b[0m \u001b[0mself\u001b[0m\u001b[0;34m.\u001b[0m\u001b[0m_backend\u001b[0m\u001b[0;34m.\u001b[0m\u001b[0mapply_async\u001b[0m\u001b[0;34m(\u001b[0m\u001b[0mbatch\u001b[0m\u001b[0;34m,\u001b[0m \u001b[0mcallback\u001b[0m\u001b[0;34m=\u001b[0m\u001b[0mcb\u001b[0m\u001b[0;34m)\u001b[0m\u001b[0;34m\u001b[0m\u001b[0;34m\u001b[0m\u001b[0m\n\u001b[0m\u001b[1;32m    780\u001b[0m             \u001b[0;31m# A job can complete so quickly than its callback is\u001b[0m\u001b[0;34m\u001b[0m\u001b[0;34m\u001b[0m\u001b[0m\n\u001b[1;32m    781\u001b[0m             \u001b[0;31m# called before we get here, causing self._jobs to\u001b[0m\u001b[0;34m\u001b[0m\u001b[0;34m\u001b[0m\u001b[0m\n",
            "\u001b[0;32m~/Research/Slides/BioInfoSummer2021_ML/env/lib/python3.9/site-packages/joblib/_parallel_backends.py\u001b[0m in \u001b[0;36mapply_async\u001b[0;34m(self, func, callback)\u001b[0m\n\u001b[1;32m    206\u001b[0m     \u001b[0;32mdef\u001b[0m \u001b[0mapply_async\u001b[0m\u001b[0;34m(\u001b[0m\u001b[0mself\u001b[0m\u001b[0;34m,\u001b[0m \u001b[0mfunc\u001b[0m\u001b[0;34m,\u001b[0m \u001b[0mcallback\u001b[0m\u001b[0;34m=\u001b[0m\u001b[0;32mNone\u001b[0m\u001b[0;34m)\u001b[0m\u001b[0;34m:\u001b[0m\u001b[0;34m\u001b[0m\u001b[0;34m\u001b[0m\u001b[0m\n\u001b[1;32m    207\u001b[0m         \u001b[0;34m\"\"\"Schedule a func to be run\"\"\"\u001b[0m\u001b[0;34m\u001b[0m\u001b[0;34m\u001b[0m\u001b[0m\n\u001b[0;32m--> 208\u001b[0;31m         \u001b[0mresult\u001b[0m \u001b[0;34m=\u001b[0m \u001b[0mImmediateResult\u001b[0m\u001b[0;34m(\u001b[0m\u001b[0mfunc\u001b[0m\u001b[0;34m)\u001b[0m\u001b[0;34m\u001b[0m\u001b[0;34m\u001b[0m\u001b[0m\n\u001b[0m\u001b[1;32m    209\u001b[0m         \u001b[0;32mif\u001b[0m \u001b[0mcallback\u001b[0m\u001b[0;34m:\u001b[0m\u001b[0;34m\u001b[0m\u001b[0;34m\u001b[0m\u001b[0m\n\u001b[1;32m    210\u001b[0m             \u001b[0mcallback\u001b[0m\u001b[0;34m(\u001b[0m\u001b[0mresult\u001b[0m\u001b[0;34m)\u001b[0m\u001b[0;34m\u001b[0m\u001b[0;34m\u001b[0m\u001b[0m\n",
            "\u001b[0;32m~/Research/Slides/BioInfoSummer2021_ML/env/lib/python3.9/site-packages/joblib/_parallel_backends.py\u001b[0m in \u001b[0;36m__init__\u001b[0;34m(self, batch)\u001b[0m\n\u001b[1;32m    570\u001b[0m         \u001b[0;31m# Don't delay the application, to avoid keeping the input\u001b[0m\u001b[0;34m\u001b[0m\u001b[0;34m\u001b[0m\u001b[0m\n\u001b[1;32m    571\u001b[0m         \u001b[0;31m# arguments in memory\u001b[0m\u001b[0;34m\u001b[0m\u001b[0;34m\u001b[0m\u001b[0m\n\u001b[0;32m--> 572\u001b[0;31m         \u001b[0mself\u001b[0m\u001b[0;34m.\u001b[0m\u001b[0mresults\u001b[0m \u001b[0;34m=\u001b[0m \u001b[0mbatch\u001b[0m\u001b[0;34m(\u001b[0m\u001b[0;34m)\u001b[0m\u001b[0;34m\u001b[0m\u001b[0;34m\u001b[0m\u001b[0m\n\u001b[0m\u001b[1;32m    573\u001b[0m \u001b[0;34m\u001b[0m\u001b[0m\n\u001b[1;32m    574\u001b[0m     \u001b[0;32mdef\u001b[0m \u001b[0mget\u001b[0m\u001b[0;34m(\u001b[0m\u001b[0mself\u001b[0m\u001b[0;34m)\u001b[0m\u001b[0;34m:\u001b[0m\u001b[0;34m\u001b[0m\u001b[0;34m\u001b[0m\u001b[0m\n",
            "\u001b[0;32m~/Research/Slides/BioInfoSummer2021_ML/env/lib/python3.9/site-packages/joblib/parallel.py\u001b[0m in \u001b[0;36m__call__\u001b[0;34m(self)\u001b[0m\n\u001b[1;32m    260\u001b[0m         \u001b[0;31m# change the default number of processes to -1\u001b[0m\u001b[0;34m\u001b[0m\u001b[0;34m\u001b[0m\u001b[0m\n\u001b[1;32m    261\u001b[0m         \u001b[0;32mwith\u001b[0m \u001b[0mparallel_backend\u001b[0m\u001b[0;34m(\u001b[0m\u001b[0mself\u001b[0m\u001b[0;34m.\u001b[0m\u001b[0m_backend\u001b[0m\u001b[0;34m,\u001b[0m \u001b[0mn_jobs\u001b[0m\u001b[0;34m=\u001b[0m\u001b[0mself\u001b[0m\u001b[0;34m.\u001b[0m\u001b[0m_n_jobs\u001b[0m\u001b[0;34m)\u001b[0m\u001b[0;34m:\u001b[0m\u001b[0;34m\u001b[0m\u001b[0;34m\u001b[0m\u001b[0m\n\u001b[0;32m--> 262\u001b[0;31m             return [func(*args, **kwargs)\n\u001b[0m\u001b[1;32m    263\u001b[0m                     for func, args, kwargs in self.items]\n\u001b[1;32m    264\u001b[0m \u001b[0;34m\u001b[0m\u001b[0m\n",
            "\u001b[0;32m~/Research/Slides/BioInfoSummer2021_ML/env/lib/python3.9/site-packages/joblib/parallel.py\u001b[0m in \u001b[0;36m<listcomp>\u001b[0;34m(.0)\u001b[0m\n\u001b[1;32m    260\u001b[0m         \u001b[0;31m# change the default number of processes to -1\u001b[0m\u001b[0;34m\u001b[0m\u001b[0;34m\u001b[0m\u001b[0m\n\u001b[1;32m    261\u001b[0m         \u001b[0;32mwith\u001b[0m \u001b[0mparallel_backend\u001b[0m\u001b[0;34m(\u001b[0m\u001b[0mself\u001b[0m\u001b[0;34m.\u001b[0m\u001b[0m_backend\u001b[0m\u001b[0;34m,\u001b[0m \u001b[0mn_jobs\u001b[0m\u001b[0;34m=\u001b[0m\u001b[0mself\u001b[0m\u001b[0;34m.\u001b[0m\u001b[0m_n_jobs\u001b[0m\u001b[0;34m)\u001b[0m\u001b[0;34m:\u001b[0m\u001b[0;34m\u001b[0m\u001b[0;34m\u001b[0m\u001b[0m\n\u001b[0;32m--> 262\u001b[0;31m             return [func(*args, **kwargs)\n\u001b[0m\u001b[1;32m    263\u001b[0m                     for func, args, kwargs in self.items]\n\u001b[1;32m    264\u001b[0m \u001b[0;34m\u001b[0m\u001b[0m\n",
            "\u001b[0;32m~/Research/Slides/BioInfoSummer2021_ML/env/lib/python3.9/site-packages/sklearn/utils/fixes.py\u001b[0m in \u001b[0;36m__call__\u001b[0;34m(self, *args, **kwargs)\u001b[0m\n\u001b[1;32m    209\u001b[0m     \u001b[0;32mdef\u001b[0m \u001b[0m__call__\u001b[0m\u001b[0;34m(\u001b[0m\u001b[0mself\u001b[0m\u001b[0;34m,\u001b[0m \u001b[0;34m*\u001b[0m\u001b[0margs\u001b[0m\u001b[0;34m,\u001b[0m \u001b[0;34m**\u001b[0m\u001b[0mkwargs\u001b[0m\u001b[0;34m)\u001b[0m\u001b[0;34m:\u001b[0m\u001b[0;34m\u001b[0m\u001b[0;34m\u001b[0m\u001b[0m\n\u001b[1;32m    210\u001b[0m         \u001b[0;32mwith\u001b[0m \u001b[0mconfig_context\u001b[0m\u001b[0;34m(\u001b[0m\u001b[0;34m**\u001b[0m\u001b[0mself\u001b[0m\u001b[0;34m.\u001b[0m\u001b[0mconfig\u001b[0m\u001b[0;34m)\u001b[0m\u001b[0;34m:\u001b[0m\u001b[0;34m\u001b[0m\u001b[0;34m\u001b[0m\u001b[0m\n\u001b[0;32m--> 211\u001b[0;31m             \u001b[0;32mreturn\u001b[0m \u001b[0mself\u001b[0m\u001b[0;34m.\u001b[0m\u001b[0mfunction\u001b[0m\u001b[0;34m(\u001b[0m\u001b[0;34m*\u001b[0m\u001b[0margs\u001b[0m\u001b[0;34m,\u001b[0m \u001b[0;34m**\u001b[0m\u001b[0mkwargs\u001b[0m\u001b[0;34m)\u001b[0m\u001b[0;34m\u001b[0m\u001b[0;34m\u001b[0m\u001b[0m\n\u001b[0m\u001b[1;32m    212\u001b[0m \u001b[0;34m\u001b[0m\u001b[0m\n\u001b[1;32m    213\u001b[0m \u001b[0;34m\u001b[0m\u001b[0m\n",
            "\u001b[0;32m~/Research/Slides/BioInfoSummer2021_ML/env/lib/python3.9/site-packages/sklearn/model_selection/_validation.py\u001b[0m in \u001b[0;36m_fit_and_score\u001b[0;34m(estimator, X, y, scorer, train, test, verbose, parameters, fit_params, return_train_score, return_parameters, return_n_test_samples, return_times, return_estimator, split_progress, candidate_progress, error_score)\u001b[0m\n\u001b[1;32m    667\u001b[0m             \u001b[0mcloned_parameters\u001b[0m\u001b[0;34m[\u001b[0m\u001b[0mk\u001b[0m\u001b[0;34m]\u001b[0m \u001b[0;34m=\u001b[0m \u001b[0mclone\u001b[0m\u001b[0;34m(\u001b[0m\u001b[0mv\u001b[0m\u001b[0;34m,\u001b[0m \u001b[0msafe\u001b[0m\u001b[0;34m=\u001b[0m\u001b[0;32mFalse\u001b[0m\u001b[0;34m)\u001b[0m\u001b[0;34m\u001b[0m\u001b[0;34m\u001b[0m\u001b[0m\n\u001b[1;32m    668\u001b[0m \u001b[0;34m\u001b[0m\u001b[0m\n\u001b[0;32m--> 669\u001b[0;31m         \u001b[0mestimator\u001b[0m \u001b[0;34m=\u001b[0m \u001b[0mestimator\u001b[0m\u001b[0;34m.\u001b[0m\u001b[0mset_params\u001b[0m\u001b[0;34m(\u001b[0m\u001b[0;34m**\u001b[0m\u001b[0mcloned_parameters\u001b[0m\u001b[0;34m)\u001b[0m\u001b[0;34m\u001b[0m\u001b[0;34m\u001b[0m\u001b[0m\n\u001b[0m\u001b[1;32m    670\u001b[0m \u001b[0;34m\u001b[0m\u001b[0m\n\u001b[1;32m    671\u001b[0m     \u001b[0mstart_time\u001b[0m \u001b[0;34m=\u001b[0m \u001b[0mtime\u001b[0m\u001b[0;34m.\u001b[0m\u001b[0mtime\u001b[0m\u001b[0;34m(\u001b[0m\u001b[0;34m)\u001b[0m\u001b[0;34m\u001b[0m\u001b[0;34m\u001b[0m\u001b[0m\n",
            "\u001b[0;32m~/Research/Slides/BioInfoSummer2021_ML/env/lib/python3.9/site-packages/sklearn/pipeline.py\u001b[0m in \u001b[0;36mset_params\u001b[0;34m(self, **kwargs)\u001b[0m\n\u001b[1;32m    186\u001b[0m             \u001b[0mPipeline\u001b[0m \u001b[0;32mclass\u001b[0m \u001b[0minstance\u001b[0m\u001b[0;34m.\u001b[0m\u001b[0;34m\u001b[0m\u001b[0;34m\u001b[0m\u001b[0m\n\u001b[1;32m    187\u001b[0m         \"\"\"\n\u001b[0;32m--> 188\u001b[0;31m         \u001b[0mself\u001b[0m\u001b[0;34m.\u001b[0m\u001b[0m_set_params\u001b[0m\u001b[0;34m(\u001b[0m\u001b[0;34m\"steps\"\u001b[0m\u001b[0;34m,\u001b[0m \u001b[0;34m**\u001b[0m\u001b[0mkwargs\u001b[0m\u001b[0;34m)\u001b[0m\u001b[0;34m\u001b[0m\u001b[0;34m\u001b[0m\u001b[0m\n\u001b[0m\u001b[1;32m    189\u001b[0m         \u001b[0;32mreturn\u001b[0m \u001b[0mself\u001b[0m\u001b[0;34m\u001b[0m\u001b[0;34m\u001b[0m\u001b[0m\n\u001b[1;32m    190\u001b[0m \u001b[0;34m\u001b[0m\u001b[0m\n",
            "\u001b[0;32m~/Research/Slides/BioInfoSummer2021_ML/env/lib/python3.9/site-packages/sklearn/utils/metaestimators.py\u001b[0m in \u001b[0;36m_set_params\u001b[0;34m(self, attr, **params)\u001b[0m\n\u001b[1;32m     52\u001b[0m                 \u001b[0mself\u001b[0m\u001b[0;34m.\u001b[0m\u001b[0m_replace_estimator\u001b[0m\u001b[0;34m(\u001b[0m\u001b[0mattr\u001b[0m\u001b[0;34m,\u001b[0m \u001b[0mname\u001b[0m\u001b[0;34m,\u001b[0m \u001b[0mparams\u001b[0m\u001b[0;34m.\u001b[0m\u001b[0mpop\u001b[0m\u001b[0;34m(\u001b[0m\u001b[0mname\u001b[0m\u001b[0;34m)\u001b[0m\u001b[0;34m)\u001b[0m\u001b[0;34m\u001b[0m\u001b[0;34m\u001b[0m\u001b[0m\n\u001b[1;32m     53\u001b[0m         \u001b[0;31m# 3. Step parameters and other initialisation arguments\u001b[0m\u001b[0;34m\u001b[0m\u001b[0;34m\u001b[0m\u001b[0m\n\u001b[0;32m---> 54\u001b[0;31m         \u001b[0msuper\u001b[0m\u001b[0;34m(\u001b[0m\u001b[0;34m)\u001b[0m\u001b[0;34m.\u001b[0m\u001b[0mset_params\u001b[0m\u001b[0;34m(\u001b[0m\u001b[0;34m**\u001b[0m\u001b[0mparams\u001b[0m\u001b[0;34m)\u001b[0m\u001b[0;34m\u001b[0m\u001b[0;34m\u001b[0m\u001b[0m\n\u001b[0m\u001b[1;32m     55\u001b[0m         \u001b[0;32mreturn\u001b[0m \u001b[0mself\u001b[0m\u001b[0;34m\u001b[0m\u001b[0;34m\u001b[0m\u001b[0m\n\u001b[1;32m     56\u001b[0m \u001b[0;34m\u001b[0m\u001b[0m\n",
            "\u001b[0;32m~/Research/Slides/BioInfoSummer2021_ML/env/lib/python3.9/site-packages/sklearn/base.py\u001b[0m in \u001b[0;36mset_params\u001b[0;34m(self, **params)\u001b[0m\n\u001b[1;32m    238\u001b[0m             \u001b[0mkey\u001b[0m\u001b[0;34m,\u001b[0m \u001b[0mdelim\u001b[0m\u001b[0;34m,\u001b[0m \u001b[0msub_key\u001b[0m \u001b[0;34m=\u001b[0m \u001b[0mkey\u001b[0m\u001b[0;34m.\u001b[0m\u001b[0mpartition\u001b[0m\u001b[0;34m(\u001b[0m\u001b[0;34m\"__\"\u001b[0m\u001b[0;34m)\u001b[0m\u001b[0;34m\u001b[0m\u001b[0;34m\u001b[0m\u001b[0m\n\u001b[1;32m    239\u001b[0m             \u001b[0;32mif\u001b[0m \u001b[0mkey\u001b[0m \u001b[0;32mnot\u001b[0m \u001b[0;32min\u001b[0m \u001b[0mvalid_params\u001b[0m\u001b[0;34m:\u001b[0m\u001b[0;34m\u001b[0m\u001b[0;34m\u001b[0m\u001b[0m\n\u001b[0;32m--> 240\u001b[0;31m                 raise ValueError(\n\u001b[0m\u001b[1;32m    241\u001b[0m                     \u001b[0;34m\"Invalid parameter %s for estimator %s. \"\u001b[0m\u001b[0;34m\u001b[0m\u001b[0;34m\u001b[0m\u001b[0m\n\u001b[1;32m    242\u001b[0m                     \u001b[0;34m\"Check the list of available parameters \"\u001b[0m\u001b[0;34m\u001b[0m\u001b[0;34m\u001b[0m\u001b[0m\n",
            "\u001b[0;31mValueError\u001b[0m: Invalid parameter RandomForestClassifier for estimator Pipeline(steps=[('selectkbest', SelectKBest()),\n                ('randomforestclassifier',\n                 RandomForestClassifier(max_depth=20, random_state=0))]). Check the list of available parameters with `estimator.get_params().keys()`."
          ]
        }
      ],
      "source": [
        "# Fit a regularise logistic regression\n",
        "#clf = LogisticRegression(penalty='l2', solver=\"saga\", tol=0.01)\n",
        "clf = RandomForestClassifier(max_depth=20, random_state=0)\n",
        "\n",
        "# Form a grid of parameters to look over\n",
        "#param_grid = {\"selectkbest__k\": [1,2,3, 4,5, 6, 8,12,16,20, 24, 28, 32], \"logisticregression__C\": [0.01, 0.1, 1,5, 10, 50, 100]}\n",
        "param_grid = {\"selectkbest__k\": [1,2,3, 4,5, 6, 8,12,16,20, 24, 28, 32], \"randomforestclassifier__max_depth\": [5, 20, 50, 100]}\n",
        "\n",
        "\n",
        "\n",
        "model_to_tune = make_pipeline(SelectKBest(f_classif),clf)\n",
        "    \n",
        "test_score_not_nested = []\n",
        "test_score_nested = []\n",
        "\n",
        "n_rep = 3\n",
        "n_split_outer=5\n",
        "n_split_inner=3\n",
        "\n",
        "for i in range(n_rep):\n",
        "    print(i, end='')\n",
        "    inner_cv = KFold(n_splits=n_split_inner, shuffle=True, random_state=i)\n",
        "    outer_cv = KFold(n_splits=n_split_outer, shuffle=True, random_state=i)\n",
        "\n",
        "    # Non_nested parameter search and scoring\n",
        "    model = GridSearchCV(estimator=model_to_tune, param_grid=param_grid, cv=inner_cv, scoring=\"roc_auc\")\n",
        "    model.fit(X, y)\n",
        "    test_score_not_nested.append(model.best_score_)\n",
        "\n",
        "    # Nested CV with parameter optimization\n",
        "    test_score = cross_val_score(model, X, y, cv=outer_cv, scoring=\"roc_auc\")\n",
        "    test_score_nested.append(test_score.mean())\n",
        "\n",
        "\n",
        "all_scores = {\n",
        "    \"Not nested CV\": test_score_not_nested,\n",
        "    \"Nested CV\": test_score_nested,\n",
        "}\n",
        "all_scores = pd.DataFrame(all_scores)\n",
        "\n",
        "color = {\"whiskers\": \"black\", \"medians\": \"black\", \"caps\": \"black\"}\n",
        "all_scores.plot.box(color=color, vert=True)\n",
        "plt.xlabel(\"AUC\")\n",
        "plt.title(\"Comparison of mean accuracy obtained on the test sets with\\n\"\n",
        "              \"and without nested cross-validation\")"
      ]
    },
    {
      "cell_type": "markdown",
      "metadata": {
        "id": "zFqz3wBC9Slg"
      },
      "source": [
        "## Final task\n",
        "Using the above code, can you implement a scheme to answer the question \"do blood serum markers help predict diabetes progression beyond age, sex, bmi and blood glucose?\".\n",
        "\n",
        "Steps: \n",
        " - Copy the code in the previous section\n",
        " - Add call to a model with a specified feature subset (as in section Cell 1.3)\n",
        " - Compare boxplots from these two models"
      ]
    },
    {
      "cell_type": "code",
      "execution_count": null,
      "metadata": {
        "id": "_33fRxC99Slh"
      },
      "outputs": [],
      "source": []
    }
  ],
  "metadata": {
    "colab": {
      "collapsed_sections": [],
      "provenance": [],
      "toc_visible": true
    },
    "kernelspec": {
      "display_name": "myenv",
      "language": "python",
      "name": "myenv"
    },
    "language_info": {
      "codemirror_mode": {
        "name": "ipython",
        "version": 3
      },
      "file_extension": ".py",
      "mimetype": "text/x-python",
      "name": "python",
      "nbconvert_exporter": "python",
      "pygments_lexer": "ipython3",
      "version": "3.9.15"
    },
    "vscode": {
      "interpreter": {
        "hash": "aee8b7b246df8f9039afb4144a1f6fd8d2ca17a180786b69acc140d282b71a49"
      }
    },
    "widgets": {
      "application/vnd.jupyter.widget-state+json": {
        "0e52c6cba9864d0f89c9171c038226e8": {
          "model_module": "@jupyter-widgets/controls",
          "model_module_version": "1.5.0",
          "model_name": "FloatProgressModel",
          "state": {
            "_dom_classes": [],
            "_model_module": "@jupyter-widgets/controls",
            "_model_module_version": "1.5.0",
            "_model_name": "FloatProgressModel",
            "_view_count": null,
            "_view_module": "@jupyter-widgets/controls",
            "_view_module_version": "1.5.0",
            "_view_name": "ProgressView",
            "bar_style": "success",
            "description": "",
            "description_tooltip": null,
            "layout": "IPY_MODEL_1b927521ecab43bc937c7fad732e4138",
            "max": 1,
            "min": 0,
            "orientation": "horizontal",
            "style": "IPY_MODEL_d3fc7bdc02c0491c8e6b6498984fba6a",
            "value": 1
          }
        },
        "1b927521ecab43bc937c7fad732e4138": {
          "model_module": "@jupyter-widgets/base",
          "model_module_version": "1.2.0",
          "model_name": "LayoutModel",
          "state": {
            "_model_module": "@jupyter-widgets/base",
            "_model_module_version": "1.2.0",
            "_model_name": "LayoutModel",
            "_view_count": null,
            "_view_module": "@jupyter-widgets/base",
            "_view_module_version": "1.2.0",
            "_view_name": "LayoutView",
            "align_content": null,
            "align_items": null,
            "align_self": null,
            "border": null,
            "bottom": null,
            "display": null,
            "flex": null,
            "flex_flow": null,
            "grid_area": null,
            "grid_auto_columns": null,
            "grid_auto_flow": null,
            "grid_auto_rows": null,
            "grid_column": null,
            "grid_gap": null,
            "grid_row": null,
            "grid_template_areas": null,
            "grid_template_columns": null,
            "grid_template_rows": null,
            "height": null,
            "justify_content": null,
            "justify_items": null,
            "left": null,
            "margin": null,
            "max_height": null,
            "max_width": null,
            "min_height": null,
            "min_width": null,
            "object_fit": null,
            "object_position": null,
            "order": null,
            "overflow": null,
            "overflow_x": null,
            "overflow_y": null,
            "padding": null,
            "right": null,
            "top": null,
            "visibility": null,
            "width": null
          }
        },
        "1e075c7bb2b341fb9d3be3948631d9c6": {
          "model_module": "@jupyter-widgets/controls",
          "model_module_version": "1.5.0",
          "model_name": "HTMLModel",
          "state": {
            "_dom_classes": [],
            "_model_module": "@jupyter-widgets/controls",
            "_model_module_version": "1.5.0",
            "_model_name": "HTMLModel",
            "_view_count": null,
            "_view_module": "@jupyter-widgets/controls",
            "_view_module_version": "1.5.0",
            "_view_name": "HTMLView",
            "description": "",
            "description_tooltip": null,
            "layout": "IPY_MODEL_3990a336e1d14dcb9eb37f9dfc10a710",
            "placeholder": "​",
            "style": "IPY_MODEL_88e9ee2dbb29440fa181bb656fc90407",
            "value": "Render HTML: 100%"
          }
        },
        "2210402b98fb4bf2a1627cba57c386e2": {
          "model_module": "@jupyter-widgets/controls",
          "model_module_version": "1.5.0",
          "model_name": "HBoxModel",
          "state": {
            "_dom_classes": [],
            "_model_module": "@jupyter-widgets/controls",
            "_model_module_version": "1.5.0",
            "_model_name": "HBoxModel",
            "_view_count": null,
            "_view_module": "@jupyter-widgets/controls",
            "_view_module_version": "1.5.0",
            "_view_name": "HBoxView",
            "box_style": "",
            "children": [
              "IPY_MODEL_1e075c7bb2b341fb9d3be3948631d9c6",
              "IPY_MODEL_0e52c6cba9864d0f89c9171c038226e8",
              "IPY_MODEL_e0b6ba0328cc49c19598d544f64a6e63"
            ],
            "layout": "IPY_MODEL_748a8e9291584a6bb88da45a5977c4d8"
          }
        },
        "3990a336e1d14dcb9eb37f9dfc10a710": {
          "model_module": "@jupyter-widgets/base",
          "model_module_version": "1.2.0",
          "model_name": "LayoutModel",
          "state": {
            "_model_module": "@jupyter-widgets/base",
            "_model_module_version": "1.2.0",
            "_model_name": "LayoutModel",
            "_view_count": null,
            "_view_module": "@jupyter-widgets/base",
            "_view_module_version": "1.2.0",
            "_view_name": "LayoutView",
            "align_content": null,
            "align_items": null,
            "align_self": null,
            "border": null,
            "bottom": null,
            "display": null,
            "flex": null,
            "flex_flow": null,
            "grid_area": null,
            "grid_auto_columns": null,
            "grid_auto_flow": null,
            "grid_auto_rows": null,
            "grid_column": null,
            "grid_gap": null,
            "grid_row": null,
            "grid_template_areas": null,
            "grid_template_columns": null,
            "grid_template_rows": null,
            "height": null,
            "justify_content": null,
            "justify_items": null,
            "left": null,
            "margin": null,
            "max_height": null,
            "max_width": null,
            "min_height": null,
            "min_width": null,
            "object_fit": null,
            "object_position": null,
            "order": null,
            "overflow": null,
            "overflow_x": null,
            "overflow_y": null,
            "padding": null,
            "right": null,
            "top": null,
            "visibility": null,
            "width": null
          }
        },
        "54d8f558ba794237bee5256118ba0e00": {
          "model_module": "@jupyter-widgets/controls",
          "model_module_version": "1.5.0",
          "model_name": "DescriptionStyleModel",
          "state": {
            "_model_module": "@jupyter-widgets/controls",
            "_model_module_version": "1.5.0",
            "_model_name": "DescriptionStyleModel",
            "_view_count": null,
            "_view_module": "@jupyter-widgets/base",
            "_view_module_version": "1.2.0",
            "_view_name": "StyleView",
            "description_width": ""
          }
        },
        "748a8e9291584a6bb88da45a5977c4d8": {
          "model_module": "@jupyter-widgets/base",
          "model_module_version": "1.2.0",
          "model_name": "LayoutModel",
          "state": {
            "_model_module": "@jupyter-widgets/base",
            "_model_module_version": "1.2.0",
            "_model_name": "LayoutModel",
            "_view_count": null,
            "_view_module": "@jupyter-widgets/base",
            "_view_module_version": "1.2.0",
            "_view_name": "LayoutView",
            "align_content": null,
            "align_items": null,
            "align_self": null,
            "border": null,
            "bottom": null,
            "display": null,
            "flex": null,
            "flex_flow": null,
            "grid_area": null,
            "grid_auto_columns": null,
            "grid_auto_flow": null,
            "grid_auto_rows": null,
            "grid_column": null,
            "grid_gap": null,
            "grid_row": null,
            "grid_template_areas": null,
            "grid_template_columns": null,
            "grid_template_rows": null,
            "height": null,
            "justify_content": null,
            "justify_items": null,
            "left": null,
            "margin": null,
            "max_height": null,
            "max_width": null,
            "min_height": null,
            "min_width": null,
            "object_fit": null,
            "object_position": null,
            "order": null,
            "overflow": null,
            "overflow_x": null,
            "overflow_y": null,
            "padding": null,
            "right": null,
            "top": null,
            "visibility": null,
            "width": null
          }
        },
        "88e9ee2dbb29440fa181bb656fc90407": {
          "model_module": "@jupyter-widgets/controls",
          "model_module_version": "1.5.0",
          "model_name": "DescriptionStyleModel",
          "state": {
            "_model_module": "@jupyter-widgets/controls",
            "_model_module_version": "1.5.0",
            "_model_name": "DescriptionStyleModel",
            "_view_count": null,
            "_view_module": "@jupyter-widgets/base",
            "_view_module_version": "1.2.0",
            "_view_name": "StyleView",
            "description_width": ""
          }
        },
        "c515e2a0d3c64229839059a29ac2db46": {
          "model_module": "@jupyter-widgets/base",
          "model_module_version": "1.2.0",
          "model_name": "LayoutModel",
          "state": {
            "_model_module": "@jupyter-widgets/base",
            "_model_module_version": "1.2.0",
            "_model_name": "LayoutModel",
            "_view_count": null,
            "_view_module": "@jupyter-widgets/base",
            "_view_module_version": "1.2.0",
            "_view_name": "LayoutView",
            "align_content": null,
            "align_items": null,
            "align_self": null,
            "border": null,
            "bottom": null,
            "display": null,
            "flex": null,
            "flex_flow": null,
            "grid_area": null,
            "grid_auto_columns": null,
            "grid_auto_flow": null,
            "grid_auto_rows": null,
            "grid_column": null,
            "grid_gap": null,
            "grid_row": null,
            "grid_template_areas": null,
            "grid_template_columns": null,
            "grid_template_rows": null,
            "height": null,
            "justify_content": null,
            "justify_items": null,
            "left": null,
            "margin": null,
            "max_height": null,
            "max_width": null,
            "min_height": null,
            "min_width": null,
            "object_fit": null,
            "object_position": null,
            "order": null,
            "overflow": null,
            "overflow_x": null,
            "overflow_y": null,
            "padding": null,
            "right": null,
            "top": null,
            "visibility": null,
            "width": null
          }
        },
        "d3fc7bdc02c0491c8e6b6498984fba6a": {
          "model_module": "@jupyter-widgets/controls",
          "model_module_version": "1.5.0",
          "model_name": "ProgressStyleModel",
          "state": {
            "_model_module": "@jupyter-widgets/controls",
            "_model_module_version": "1.5.0",
            "_model_name": "ProgressStyleModel",
            "_view_count": null,
            "_view_module": "@jupyter-widgets/base",
            "_view_module_version": "1.2.0",
            "_view_name": "StyleView",
            "bar_color": null,
            "description_width": ""
          }
        },
        "e0b6ba0328cc49c19598d544f64a6e63": {
          "model_module": "@jupyter-widgets/controls",
          "model_module_version": "1.5.0",
          "model_name": "HTMLModel",
          "state": {
            "_dom_classes": [],
            "_model_module": "@jupyter-widgets/controls",
            "_model_module_version": "1.5.0",
            "_model_name": "HTMLModel",
            "_view_count": null,
            "_view_module": "@jupyter-widgets/controls",
            "_view_module_version": "1.5.0",
            "_view_name": "HTMLView",
            "description": "",
            "description_tooltip": null,
            "layout": "IPY_MODEL_c515e2a0d3c64229839059a29ac2db46",
            "placeholder": "​",
            "style": "IPY_MODEL_54d8f558ba794237bee5256118ba0e00",
            "value": " 1/1 [00:03&lt;00:00,  3.77s/it]"
          }
        }
      }
    }
  },
  "nbformat": 4,
  "nbformat_minor": 0
}
